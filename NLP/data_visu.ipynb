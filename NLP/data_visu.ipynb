{
 "cells": [
  {
   "cell_type": "code",
   "execution_count": 4,
   "id": "36b2c47e",
   "metadata": {},
   "outputs": [],
   "source": [
    "import pandas as pd\n",
    "import seaborn as sns\n",
    "import matplotlib.pyplot as plt\n",
    "import plotly.express as px\n",
    "from main import themes_by_candidate"
   ]
  },
  {
   "cell_type": "code",
   "execution_count": 25,
   "id": "f78fa3e1",
   "metadata": {},
   "outputs": [
    {
     "name": "stdout",
     "output_type": "stream",
     "text": [
      "Fichier parsé:  C:/Users/cesar/Desktop/UTC/GI04/TX00/TX00/Snscrape/Output/Roussel.json\n",
      "theme:  C:/Users/cesar/Desktop/UTC/GI04/TX00/TX00/NLP/ecologie.txt\n",
      " Occurence moyenne par tweet: 0.05\n",
      " Taux de tweets liés au thème: 4.62 %\n",
      " Nombre d'occurence max dans un tweet:  4\n",
      "--------------------------------------------------------------------------------------------------\n",
      "theme:  C:/Users/cesar/Desktop/UTC/GI04/TX00/TX00/NLP/economie.txt\n",
      " Occurence moyenne par tweet: 0.25\n",
      " Taux de tweets liés au thème: 20.29 %\n",
      " Nombre d'occurence max dans un tweet:  5\n",
      "--------------------------------------------------------------------------------------------------\n",
      "theme:  C:/Users/cesar/Desktop/UTC/GI04/TX00/TX00/NLP/education.txt\n",
      " Occurence moyenne par tweet: 0.19\n",
      " Taux de tweets liés au thème: 15.97 %\n",
      " Nombre d'occurence max dans un tweet:  6\n",
      "--------------------------------------------------------------------------------------------------\n",
      "theme:  C:/Users/cesar/Desktop/UTC/GI04/TX00/TX00/NLP/immigration.txt\n",
      " Occurence moyenne par tweet: 0.06\n",
      " Taux de tweets liés au thème: 5.94 %\n",
      " Nombre d'occurence max dans un tweet:  3\n",
      "--------------------------------------------------------------------------------------------------\n",
      "theme:  C:/Users/cesar/Desktop/UTC/GI04/TX00/TX00/NLP/sante.txt\n",
      " Occurence moyenne par tweet: 0.10\n",
      " Taux de tweets liés au thème: 8.45 %\n",
      " Nombre d'occurence max dans un tweet:  5\n",
      "--------------------------------------------------------------------------------------------------\n",
      "theme:  C:/Users/cesar/Desktop/UTC/GI04/TX00/TX00/NLP/securite_defense.txt\n",
      " Occurence moyenne par tweet: 0.21\n",
      " Taux de tweets liés au thème: 16.82 %\n",
      " Nombre d'occurence max dans un tweet:  16\n",
      "--------------------------------------------------------------------------------------------------\n"
     ]
    },
    {
     "data": {
      "text/html": [
       "<div>\n",
       "<style scoped>\n",
       "    .dataframe tbody tr th:only-of-type {\n",
       "        vertical-align: middle;\n",
       "    }\n",
       "\n",
       "    .dataframe tbody tr th {\n",
       "        vertical-align: top;\n",
       "    }\n",
       "\n",
       "    .dataframe thead th {\n",
       "        text-align: right;\n",
       "    }\n",
       "</style>\n",
       "<table border=\"1\" class=\"dataframe\">\n",
       "  <thead>\n",
       "    <tr style=\"text-align: right;\">\n",
       "      <th></th>\n",
       "      <th>occurence_moy</th>\n",
       "      <th>tweets_lies</th>\n",
       "      <th>occurence_max</th>\n",
       "      <th>candidat</th>\n",
       "    </tr>\n",
       "  </thead>\n",
       "  <tbody>\n",
       "    <tr>\n",
       "      <th>ecologie</th>\n",
       "      <td>0.0507</td>\n",
       "      <td>4.6181</td>\n",
       "      <td>4</td>\n",
       "      <td>Roussel</td>\n",
       "    </tr>\n",
       "    <tr>\n",
       "      <th>economie</th>\n",
       "      <td>0.2468</td>\n",
       "      <td>20.2872</td>\n",
       "      <td>5</td>\n",
       "      <td>Roussel</td>\n",
       "    </tr>\n",
       "    <tr>\n",
       "      <th>education</th>\n",
       "      <td>0.1934</td>\n",
       "      <td>15.9674</td>\n",
       "      <td>6</td>\n",
       "      <td>Roussel</td>\n",
       "    </tr>\n",
       "    <tr>\n",
       "      <th>immigration</th>\n",
       "      <td>0.0650</td>\n",
       "      <td>5.9357</td>\n",
       "      <td>3</td>\n",
       "      <td>Roussel</td>\n",
       "    </tr>\n",
       "    <tr>\n",
       "      <th>sante</th>\n",
       "      <td>0.0970</td>\n",
       "      <td>8.4530</td>\n",
       "      <td>5</td>\n",
       "      <td>Roussel</td>\n",
       "    </tr>\n",
       "    <tr>\n",
       "      <th>securite_defense</th>\n",
       "      <td>0.2091</td>\n",
       "      <td>16.8189</td>\n",
       "      <td>16</td>\n",
       "      <td>Roussel</td>\n",
       "    </tr>\n",
       "  </tbody>\n",
       "</table>\n",
       "</div>"
      ],
      "text/plain": [
       "                  occurence_moy  tweets_lies  occurence_max candidat\n",
       "ecologie                 0.0507       4.6181              4  Roussel\n",
       "economie                 0.2468      20.2872              5  Roussel\n",
       "education                0.1934      15.9674              6  Roussel\n",
       "immigration              0.0650       5.9357              3  Roussel\n",
       "sante                    0.0970       8.4530              5  Roussel\n",
       "securite_defense         0.2091      16.8189             16  Roussel"
      ]
     },
     "execution_count": 25,
     "metadata": {},
     "output_type": "execute_result"
    }
   ],
   "source": [
    "insights_roussel = themes_by_candidate(\"Roussel\")\n",
    "df_roussel = pd.DataFrame(insights_roussel, index = [\"ecologie\", \"economie\", \"education\", \"immigration\", \"sante\", \"securite_defense\"])\n",
    "df_roussel[\"candidat\"] = [\"Roussel\", \"Roussel\", \"Roussel\", \"Roussel\", \"Roussel\", \"Roussel\"]\n",
    "df_roussel"
   ]
  },
  {
   "cell_type": "code",
   "execution_count": 26,
   "id": "6349bd4e",
   "metadata": {},
   "outputs": [
    {
     "name": "stdout",
     "output_type": "stream",
     "text": [
      "Fichier parsé:  C:/Users/cesar/Desktop/UTC/GI04/TX00/TX00/Snscrape/Output/Arthaud.json\n",
      "theme:  C:/Users/cesar/Desktop/UTC/GI04/TX00/TX00/NLP/ecologie.txt\n",
      " Occurence moyenne par tweet: 0.02\n",
      " Taux de tweets liés au thème: 1.60 %\n",
      " Nombre d'occurence max dans un tweet:  1\n",
      "--------------------------------------------------------------------------------------------------\n",
      "theme:  C:/Users/cesar/Desktop/UTC/GI04/TX00/TX00/NLP/economie.txt\n",
      " Occurence moyenne par tweet: 0.17\n",
      " Taux de tweets liés au thème: 14.14 %\n",
      " Nombre d'occurence max dans un tweet:  4\n",
      "--------------------------------------------------------------------------------------------------\n",
      "theme:  C:/Users/cesar/Desktop/UTC/GI04/TX00/TX00/NLP/education.txt\n",
      " Occurence moyenne par tweet: 0.20\n",
      " Taux de tweets liés au thème: 15.89 %\n",
      " Nombre d'occurence max dans un tweet:  5\n",
      "--------------------------------------------------------------------------------------------------\n",
      "theme:  C:/Users/cesar/Desktop/UTC/GI04/TX00/TX00/NLP/immigration.txt\n",
      " Occurence moyenne par tweet: 0.07\n",
      " Taux de tweets liés au thème: 6.15 %\n",
      " Nombre d'occurence max dans un tweet:  3\n",
      "--------------------------------------------------------------------------------------------------\n",
      "theme:  C:/Users/cesar/Desktop/UTC/GI04/TX00/TX00/NLP/sante.txt\n",
      " Occurence moyenne par tweet: 0.07\n",
      " Taux de tweets liés au thème: 5.99 %\n",
      " Nombre d'occurence max dans un tweet:  4\n",
      "--------------------------------------------------------------------------------------------------\n",
      "theme:  C:/Users/cesar/Desktop/UTC/GI04/TX00/TX00/NLP/securite_defense.txt\n",
      " Occurence moyenne par tweet: 0.15\n",
      " Taux de tweets liés au thème: 11.02 %\n",
      " Nombre d'occurence max dans un tweet:  6\n",
      "--------------------------------------------------------------------------------------------------\n"
     ]
    },
    {
     "data": {
      "text/html": [
       "<div>\n",
       "<style scoped>\n",
       "    .dataframe tbody tr th:only-of-type {\n",
       "        vertical-align: middle;\n",
       "    }\n",
       "\n",
       "    .dataframe tbody tr th {\n",
       "        vertical-align: top;\n",
       "    }\n",
       "\n",
       "    .dataframe thead th {\n",
       "        text-align: right;\n",
       "    }\n",
       "</style>\n",
       "<table border=\"1\" class=\"dataframe\">\n",
       "  <thead>\n",
       "    <tr style=\"text-align: right;\">\n",
       "      <th></th>\n",
       "      <th>occurence_moy</th>\n",
       "      <th>tweets_lies</th>\n",
       "      <th>occurence_max</th>\n",
       "      <th>candidat</th>\n",
       "    </tr>\n",
       "  </thead>\n",
       "  <tbody>\n",
       "    <tr>\n",
       "      <th>ecologie</th>\n",
       "      <td>0.0160</td>\n",
       "      <td>1.5974</td>\n",
       "      <td>1</td>\n",
       "      <td>Arthaud</td>\n",
       "    </tr>\n",
       "    <tr>\n",
       "      <th>economie</th>\n",
       "      <td>0.1677</td>\n",
       "      <td>14.1374</td>\n",
       "      <td>4</td>\n",
       "      <td>Arthaud</td>\n",
       "    </tr>\n",
       "    <tr>\n",
       "      <th>education</th>\n",
       "      <td>0.1981</td>\n",
       "      <td>15.8946</td>\n",
       "      <td>5</td>\n",
       "      <td>Arthaud</td>\n",
       "    </tr>\n",
       "    <tr>\n",
       "      <th>immigration</th>\n",
       "      <td>0.0719</td>\n",
       "      <td>6.1502</td>\n",
       "      <td>3</td>\n",
       "      <td>Arthaud</td>\n",
       "    </tr>\n",
       "    <tr>\n",
       "      <th>sante</th>\n",
       "      <td>0.0719</td>\n",
       "      <td>5.9904</td>\n",
       "      <td>4</td>\n",
       "      <td>Arthaud</td>\n",
       "    </tr>\n",
       "    <tr>\n",
       "      <th>securite_defense</th>\n",
       "      <td>0.1470</td>\n",
       "      <td>11.0224</td>\n",
       "      <td>6</td>\n",
       "      <td>Arthaud</td>\n",
       "    </tr>\n",
       "  </tbody>\n",
       "</table>\n",
       "</div>"
      ],
      "text/plain": [
       "                  occurence_moy  tweets_lies  occurence_max candidat\n",
       "ecologie                 0.0160       1.5974              1  Arthaud\n",
       "economie                 0.1677      14.1374              4  Arthaud\n",
       "education                0.1981      15.8946              5  Arthaud\n",
       "immigration              0.0719       6.1502              3  Arthaud\n",
       "sante                    0.0719       5.9904              4  Arthaud\n",
       "securite_defense         0.1470      11.0224              6  Arthaud"
      ]
     },
     "execution_count": 26,
     "metadata": {},
     "output_type": "execute_result"
    }
   ],
   "source": [
    "insights_arthaud = themes_by_candidate(\"Arthaud\")\n",
    "df_arthaud = pd.DataFrame(insights_arthaud, index = [\"ecologie\", \"economie\", \"education\", \"immigration\", \"sante\", \"securite_defense\"])\n",
    "df_arthaud[\"candidat\"] = [\"Arthaud\", \"Arthaud\", \"Arthaud\", \"Arthaud\", \"Arthaud\", \"Arthaud\"]\n",
    "df_arthaud"
   ]
  },
  {
   "cell_type": "code",
   "execution_count": 17,
   "id": "a58d50cb",
   "metadata": {},
   "outputs": [
    {
     "name": "stdout",
     "output_type": "stream",
     "text": [
      "Fichier parsé:  C:/Users/cesar/Desktop/UTC/GI04/TX00/TX00/Snscrape/Output/Hidalgo.json\n",
      "theme:  C:/Users/cesar/Desktop/UTC/GI04/TX00/TX00/NLP/ecologie.txt\n",
      " Occurence moyenne par tweet: 0.02\n",
      " Taux de tweets liés au thème: 1.92 %\n",
      " Nombre d'occurence max dans un tweet:  4\n",
      "--------------------------------------------------------------------------------------------------\n",
      "theme:  C:/Users/cesar/Desktop/UTC/GI04/TX00/TX00/NLP/economie.txt\n",
      " Occurence moyenne par tweet: 0.10\n",
      " Taux de tweets liés au thème: 8.68 %\n",
      " Nombre d'occurence max dans un tweet:  5\n",
      "--------------------------------------------------------------------------------------------------\n",
      "theme:  C:/Users/cesar/Desktop/UTC/GI04/TX00/TX00/NLP/education.txt\n",
      " Occurence moyenne par tweet: 0.11\n",
      " Taux de tweets liés au thème: 8.78 %\n",
      " Nombre d'occurence max dans un tweet:  6\n",
      "--------------------------------------------------------------------------------------------------\n",
      "theme:  C:/Users/cesar/Desktop/UTC/GI04/TX00/TX00/NLP/immigration.txt\n",
      " Occurence moyenne par tweet: 0.04\n",
      " Taux de tweets liés au thème: 3.30 %\n",
      " Nombre d'occurence max dans un tweet:  4\n",
      "--------------------------------------------------------------------------------------------------\n",
      "theme:  C:/Users/cesar/Desktop/UTC/GI04/TX00/TX00/NLP/sante.txt\n",
      " Occurence moyenne par tweet: 0.05\n",
      " Taux de tweets liés au thème: 4.63 %\n",
      " Nombre d'occurence max dans un tweet:  5\n",
      "--------------------------------------------------------------------------------------------------\n",
      "theme:  C:/Users/cesar/Desktop/UTC/GI04/TX00/TX00/NLP/securite_defense.txt\n",
      " Occurence moyenne par tweet: 0.10\n",
      " Taux de tweets liés au thème: 8.10 %\n",
      " Nombre d'occurence max dans un tweet:  5\n",
      "--------------------------------------------------------------------------------------------------\n"
     ]
    },
    {
     "data": {
      "text/html": [
       "<div>\n",
       "<style scoped>\n",
       "    .dataframe tbody tr th:only-of-type {\n",
       "        vertical-align: middle;\n",
       "    }\n",
       "\n",
       "    .dataframe tbody tr th {\n",
       "        vertical-align: top;\n",
       "    }\n",
       "\n",
       "    .dataframe thead th {\n",
       "        text-align: right;\n",
       "    }\n",
       "</style>\n",
       "<table border=\"1\" class=\"dataframe\">\n",
       "  <thead>\n",
       "    <tr style=\"text-align: right;\">\n",
       "      <th></th>\n",
       "      <th>occurence_moy</th>\n",
       "      <th>tweets_lies</th>\n",
       "      <th>occurence_max</th>\n",
       "      <th>candidat</th>\n",
       "    </tr>\n",
       "  </thead>\n",
       "  <tbody>\n",
       "    <tr>\n",
       "      <th>ecologie</th>\n",
       "      <td>0.0207</td>\n",
       "      <td>1.9160</td>\n",
       "      <td>4</td>\n",
       "      <td>Hidalgo</td>\n",
       "    </tr>\n",
       "    <tr>\n",
       "      <th>economie</th>\n",
       "      <td>0.0988</td>\n",
       "      <td>8.6832</td>\n",
       "      <td>5</td>\n",
       "      <td>Hidalgo</td>\n",
       "    </tr>\n",
       "    <tr>\n",
       "      <th>education</th>\n",
       "      <td>0.1050</td>\n",
       "      <td>8.7802</td>\n",
       "      <td>6</td>\n",
       "      <td>Hidalgo</td>\n",
       "    </tr>\n",
       "    <tr>\n",
       "      <th>immigration</th>\n",
       "      <td>0.0354</td>\n",
       "      <td>3.3015</td>\n",
       "      <td>4</td>\n",
       "      <td>Hidalgo</td>\n",
       "    </tr>\n",
       "    <tr>\n",
       "      <th>sante</th>\n",
       "      <td>0.0510</td>\n",
       "      <td>4.6296</td>\n",
       "      <td>5</td>\n",
       "      <td>Hidalgo</td>\n",
       "    </tr>\n",
       "    <tr>\n",
       "      <th>securite_defense</th>\n",
       "      <td>0.0953</td>\n",
       "      <td>8.1013</td>\n",
       "      <td>5</td>\n",
       "      <td>Hidalgo</td>\n",
       "    </tr>\n",
       "  </tbody>\n",
       "</table>\n",
       "</div>"
      ],
      "text/plain": [
       "                  occurence_moy  tweets_lies  occurence_max candidat\n",
       "ecologie                 0.0207       1.9160              4  Hidalgo\n",
       "economie                 0.0988       8.6832              5  Hidalgo\n",
       "education                0.1050       8.7802              6  Hidalgo\n",
       "immigration              0.0354       3.3015              4  Hidalgo\n",
       "sante                    0.0510       4.6296              5  Hidalgo\n",
       "securite_defense         0.0953       8.1013              5  Hidalgo"
      ]
     },
     "execution_count": 17,
     "metadata": {},
     "output_type": "execute_result"
    }
   ],
   "source": [
    "insights_hidalgo = themes_by_candidate(\"Hidalgo\")\n",
    "df_hidalgo = pd.DataFrame(insights_hidalgo, index = [\"ecologie\", \"economie\", \"education\", \"immigration\", \"sante\", \"securite_defense\"])\n",
    "df_hidalgo[\"candidat\"] = [\"Hidalgo\", \"Hidalgo\", \"Hidalgo\", \"Hidalgo\", \"Hidalgo\", \"Hidalgo\"]\n",
    "df_hidalgo"
   ]
  },
  {
   "cell_type": "code",
   "execution_count": 18,
   "id": "5f937786",
   "metadata": {},
   "outputs": [
    {
     "name": "stdout",
     "output_type": "stream",
     "text": [
      "Fichier parsé:  C:/Users/cesar/Desktop/UTC/GI04/TX00/TX00/Snscrape/Output/Poutou.json\n",
      "theme:  C:/Users/cesar/Desktop/UTC/GI04/TX00/TX00/NLP/ecologie.txt\n",
      " Occurence moyenne par tweet: 0.02\n",
      " Taux de tweets liés au thème: 1.82 %\n",
      " Nombre d'occurence max dans un tweet:  4\n",
      "--------------------------------------------------------------------------------------------------\n",
      "theme:  C:/Users/cesar/Desktop/UTC/GI04/TX00/TX00/NLP/economie.txt\n",
      " Occurence moyenne par tweet: 0.16\n",
      " Taux de tweets liés au thème: 13.27 %\n",
      " Nombre d'occurence max dans un tweet:  5\n",
      "--------------------------------------------------------------------------------------------------\n",
      "theme:  C:/Users/cesar/Desktop/UTC/GI04/TX00/TX00/NLP/education.txt\n",
      " Occurence moyenne par tweet: 0.18\n",
      " Taux de tweets liés au thème: 14.93 %\n",
      " Nombre d'occurence max dans un tweet:  5\n",
      "--------------------------------------------------------------------------------------------------\n",
      "theme:  C:/Users/cesar/Desktop/UTC/GI04/TX00/TX00/NLP/immigration.txt\n",
      " Occurence moyenne par tweet: 0.06\n",
      " Taux de tweets liés au thème: 5.26 %\n",
      " Nombre d'occurence max dans un tweet:  3\n",
      "--------------------------------------------------------------------------------------------------\n",
      "theme:  C:/Users/cesar/Desktop/UTC/GI04/TX00/TX00/NLP/sante.txt\n",
      " Occurence moyenne par tweet: 0.08\n",
      " Taux de tweets liés au thème: 7.40 %\n",
      " Nombre d'occurence max dans un tweet:  4\n",
      "--------------------------------------------------------------------------------------------------\n",
      "theme:  C:/Users/cesar/Desktop/UTC/GI04/TX00/TX00/NLP/securite_defense.txt\n",
      " Occurence moyenne par tweet: 0.16\n",
      " Taux de tweets liés au thème: 13.29 %\n",
      " Nombre d'occurence max dans un tweet:  5\n",
      "--------------------------------------------------------------------------------------------------\n"
     ]
    },
    {
     "data": {
      "text/html": [
       "<div>\n",
       "<style scoped>\n",
       "    .dataframe tbody tr th:only-of-type {\n",
       "        vertical-align: middle;\n",
       "    }\n",
       "\n",
       "    .dataframe tbody tr th {\n",
       "        vertical-align: top;\n",
       "    }\n",
       "\n",
       "    .dataframe thead th {\n",
       "        text-align: right;\n",
       "    }\n",
       "</style>\n",
       "<table border=\"1\" class=\"dataframe\">\n",
       "  <thead>\n",
       "    <tr style=\"text-align: right;\">\n",
       "      <th></th>\n",
       "      <th>occurence_moy</th>\n",
       "      <th>tweets_lies</th>\n",
       "      <th>occurence_max</th>\n",
       "      <th>candidat</th>\n",
       "    </tr>\n",
       "  </thead>\n",
       "  <tbody>\n",
       "    <tr>\n",
       "      <th>ecologie</th>\n",
       "      <td>0.0193</td>\n",
       "      <td>1.8243</td>\n",
       "      <td>4</td>\n",
       "      <td>Poutou</td>\n",
       "    </tr>\n",
       "    <tr>\n",
       "      <th>economie</th>\n",
       "      <td>0.1629</td>\n",
       "      <td>13.2732</td>\n",
       "      <td>5</td>\n",
       "      <td>Poutou</td>\n",
       "    </tr>\n",
       "    <tr>\n",
       "      <th>education</th>\n",
       "      <td>0.1814</td>\n",
       "      <td>14.9298</td>\n",
       "      <td>5</td>\n",
       "      <td>Poutou</td>\n",
       "    </tr>\n",
       "    <tr>\n",
       "      <th>immigration</th>\n",
       "      <td>0.0570</td>\n",
       "      <td>5.2632</td>\n",
       "      <td>3</td>\n",
       "      <td>Poutou</td>\n",
       "    </tr>\n",
       "    <tr>\n",
       "      <th>sante</th>\n",
       "      <td>0.0839</td>\n",
       "      <td>7.4020</td>\n",
       "      <td>4</td>\n",
       "      <td>Poutou</td>\n",
       "    </tr>\n",
       "    <tr>\n",
       "      <th>securite_defense</th>\n",
       "      <td>0.1552</td>\n",
       "      <td>13.2942</td>\n",
       "      <td>5</td>\n",
       "      <td>Poutou</td>\n",
       "    </tr>\n",
       "  </tbody>\n",
       "</table>\n",
       "</div>"
      ],
      "text/plain": [
       "                  occurence_moy  tweets_lies  occurence_max candidat\n",
       "ecologie                 0.0193       1.8243              4   Poutou\n",
       "economie                 0.1629      13.2732              5   Poutou\n",
       "education                0.1814      14.9298              5   Poutou\n",
       "immigration              0.0570       5.2632              3   Poutou\n",
       "sante                    0.0839       7.4020              4   Poutou\n",
       "securite_defense         0.1552      13.2942              5   Poutou"
      ]
     },
     "execution_count": 18,
     "metadata": {},
     "output_type": "execute_result"
    }
   ],
   "source": [
    "insights_poutou = themes_by_candidate(\"Poutou\")\n",
    "df_poutou = pd.DataFrame(insights_poutou, index = [\"ecologie\", \"economie\", \"education\", \"immigration\", \"sante\", \"securite_defense\"])\n",
    "df_poutou[\"candidat\"] = [\"Poutou\", \"Poutou\", \"Poutou\", \"Poutou\", \"Poutou\", \"Poutou\"]\n",
    "df_poutou\n"
   ]
  },
  {
   "cell_type": "code",
   "execution_count": 32,
   "id": "ed19ca8f",
   "metadata": {},
   "outputs": [
    {
     "name": "stdout",
     "output_type": "stream",
     "text": [
      "Fichier parsé:  C:/Users/cesar/Desktop/UTC/GI04/TX00/TX00/Snscrape/Output/Zemmour.json\n",
      "theme:  C:/Users/cesar/Desktop/UTC/GI04/TX00/TX00/NLP/ecologie.txt\n",
      " Occurence moyenne par tweet: 0.03\n",
      " Taux de tweets liés au thème: 2.92 %\n",
      " Nombre d'occurence max dans un tweet:  6\n",
      "--------------------------------------------------------------------------------------------------\n",
      "theme:  C:/Users/cesar/Desktop/UTC/GI04/TX00/TX00/NLP/economie.txt\n",
      " Occurence moyenne par tweet: 0.14\n",
      " Taux de tweets liés au thème: 11.94 %\n",
      " Nombre d'occurence max dans un tweet:  7\n",
      "--------------------------------------------------------------------------------------------------\n",
      "theme:  C:/Users/cesar/Desktop/UTC/GI04/TX00/TX00/NLP/education.txt\n",
      " Occurence moyenne par tweet: 0.18\n",
      " Taux de tweets liés au thème: 14.61 %\n",
      " Nombre d'occurence max dans un tweet:  8\n",
      "--------------------------------------------------------------------------------------------------\n",
      "theme:  C:/Users/cesar/Desktop/UTC/GI04/TX00/TX00/NLP/immigration.txt\n",
      " Occurence moyenne par tweet: 0.11\n",
      " Taux de tweets liés au thème: 9.38 %\n",
      " Nombre d'occurence max dans un tweet:  6\n",
      "--------------------------------------------------------------------------------------------------\n",
      "theme:  C:/Users/cesar/Desktop/UTC/GI04/TX00/TX00/NLP/sante.txt\n",
      " Occurence moyenne par tweet: 0.10\n",
      " Taux de tweets liés au thème: 8.89 %\n",
      " Nombre d'occurence max dans un tweet:  8\n",
      "--------------------------------------------------------------------------------------------------\n",
      "theme:  C:/Users/cesar/Desktop/UTC/GI04/TX00/TX00/NLP/securite_defense.txt\n",
      " Occurence moyenne par tweet: 0.20\n",
      " Taux de tweets liés au thème: 16.07 %\n",
      " Nombre d'occurence max dans un tweet:  7\n",
      "--------------------------------------------------------------------------------------------------\n"
     ]
    },
    {
     "data": {
      "text/html": [
       "<div>\n",
       "<style scoped>\n",
       "    .dataframe tbody tr th:only-of-type {\n",
       "        vertical-align: middle;\n",
       "    }\n",
       "\n",
       "    .dataframe tbody tr th {\n",
       "        vertical-align: top;\n",
       "    }\n",
       "\n",
       "    .dataframe thead th {\n",
       "        text-align: right;\n",
       "    }\n",
       "</style>\n",
       "<table border=\"1\" class=\"dataframe\">\n",
       "  <thead>\n",
       "    <tr style=\"text-align: right;\">\n",
       "      <th></th>\n",
       "      <th>occurence_moy</th>\n",
       "      <th>tweets_lies</th>\n",
       "      <th>occurence_max</th>\n",
       "      <th>candidat</th>\n",
       "    </tr>\n",
       "  </thead>\n",
       "  <tbody>\n",
       "    <tr>\n",
       "      <th>ecologie</th>\n",
       "      <td>0.0316</td>\n",
       "      <td>2.9153</td>\n",
       "      <td>6</td>\n",
       "      <td>Zemmour</td>\n",
       "    </tr>\n",
       "    <tr>\n",
       "      <th>economie</th>\n",
       "      <td>0.1383</td>\n",
       "      <td>11.9438</td>\n",
       "      <td>7</td>\n",
       "      <td>Zemmour</td>\n",
       "    </tr>\n",
       "    <tr>\n",
       "      <th>education</th>\n",
       "      <td>0.1809</td>\n",
       "      <td>14.6125</td>\n",
       "      <td>8</td>\n",
       "      <td>Zemmour</td>\n",
       "    </tr>\n",
       "    <tr>\n",
       "      <th>immigration</th>\n",
       "      <td>0.1093</td>\n",
       "      <td>9.3848</td>\n",
       "      <td>6</td>\n",
       "      <td>Zemmour</td>\n",
       "    </tr>\n",
       "    <tr>\n",
       "      <th>sante</th>\n",
       "      <td>0.1014</td>\n",
       "      <td>8.8922</td>\n",
       "      <td>8</td>\n",
       "      <td>Zemmour</td>\n",
       "    </tr>\n",
       "    <tr>\n",
       "      <th>securite_defense</th>\n",
       "      <td>0.1982</td>\n",
       "      <td>16.0720</td>\n",
       "      <td>7</td>\n",
       "      <td>Zemmour</td>\n",
       "    </tr>\n",
       "  </tbody>\n",
       "</table>\n",
       "</div>"
      ],
      "text/plain": [
       "                  occurence_moy  tweets_lies  occurence_max candidat\n",
       "ecologie                 0.0316       2.9153              6  Zemmour\n",
       "economie                 0.1383      11.9438              7  Zemmour\n",
       "education                0.1809      14.6125              8  Zemmour\n",
       "immigration              0.1093       9.3848              6  Zemmour\n",
       "sante                    0.1014       8.8922              8  Zemmour\n",
       "securite_defense         0.1982      16.0720              7  Zemmour"
      ]
     },
     "execution_count": 32,
     "metadata": {},
     "output_type": "execute_result"
    }
   ],
   "source": [
    "insights_zemmour = themes_by_candidate(\"Zemmour\")\n",
    "df_zemmour = pd.DataFrame(insights_zemmour, index = [\"ecologie\", \"economie\", \"education\", \"immigration\", \"sante\", \"securite_defense\"])\n",
    "df_zemmour[\"candidat\"] = [\"Zemmour\", \"Zemmour\", \"Zemmour\", \"Zemmour\", \"Zemmour\", \"Zemmour\"]\n",
    "df_zemmour\n"
   ]
  },
  {
   "cell_type": "code",
   "execution_count": 35,
   "id": "62922632",
   "metadata": {
    "scrolled": true
   },
   "outputs": [
    {
     "name": "stdout",
     "output_type": "stream",
     "text": [
      "Fichier parsé:  C:/Users/cesar/Desktop/UTC/GI04/TX00/TX00/Snscrape/Output/Jadot.json\n",
      "theme:  C:/Users/cesar/Desktop/UTC/GI04/TX00/TX00/NLP/ecologie.txt\n",
      " Occurence moyenne par tweet: 0.17\n",
      " Taux de tweets liés au thème: 14.08 %\n",
      " Nombre d'occurence max dans un tweet:  7\n",
      "--------------------------------------------------------------------------------------------------\n",
      "theme:  C:/Users/cesar/Desktop/UTC/GI04/TX00/TX00/NLP/economie.txt\n",
      " Occurence moyenne par tweet: 0.23\n",
      " Taux de tweets liés au thème: 18.76 %\n",
      " Nombre d'occurence max dans un tweet:  7\n",
      "--------------------------------------------------------------------------------------------------\n",
      "theme:  C:/Users/cesar/Desktop/UTC/GI04/TX00/TX00/NLP/education.txt\n",
      " Occurence moyenne par tweet: 0.18\n",
      " Taux de tweets liés au thème: 15.09 %\n",
      " Nombre d'occurence max dans un tweet:  6\n",
      "--------------------------------------------------------------------------------------------------\n",
      "theme:  C:/Users/cesar/Desktop/UTC/GI04/TX00/TX00/NLP/immigration.txt\n",
      " Occurence moyenne par tweet: 0.13\n",
      " Taux de tweets liés au thème: 10.78 %\n",
      " Nombre d'occurence max dans un tweet:  5\n",
      "--------------------------------------------------------------------------------------------------\n",
      "theme:  C:/Users/cesar/Desktop/UTC/GI04/TX00/TX00/NLP/sante.txt\n",
      " Occurence moyenne par tweet: 0.12\n",
      " Taux de tweets liés au thème: 10.38 %\n",
      " Nombre d'occurence max dans un tweet:  5\n",
      "--------------------------------------------------------------------------------------------------\n",
      "theme:  C:/Users/cesar/Desktop/UTC/GI04/TX00/TX00/NLP/securite_defense.txt\n",
      " Occurence moyenne par tweet: 0.24\n",
      " Taux de tweets liés au thème: 18.83 %\n",
      " Nombre d'occurence max dans un tweet:  5\n",
      "--------------------------------------------------------------------------------------------------\n"
     ]
    },
    {
     "data": {
      "text/html": [
       "<div>\n",
       "<style scoped>\n",
       "    .dataframe tbody tr th:only-of-type {\n",
       "        vertical-align: middle;\n",
       "    }\n",
       "\n",
       "    .dataframe tbody tr th {\n",
       "        vertical-align: top;\n",
       "    }\n",
       "\n",
       "    .dataframe thead th {\n",
       "        text-align: right;\n",
       "    }\n",
       "</style>\n",
       "<table border=\"1\" class=\"dataframe\">\n",
       "  <thead>\n",
       "    <tr style=\"text-align: right;\">\n",
       "      <th></th>\n",
       "      <th>occurence_moy</th>\n",
       "      <th>tweets_lies</th>\n",
       "      <th>occurence_max</th>\n",
       "      <th>candidat</th>\n",
       "    </tr>\n",
       "  </thead>\n",
       "  <tbody>\n",
       "    <tr>\n",
       "      <th>ecologie</th>\n",
       "      <td>0.1723</td>\n",
       "      <td>14.0827</td>\n",
       "      <td>7</td>\n",
       "      <td>Jadot</td>\n",
       "    </tr>\n",
       "    <tr>\n",
       "      <th>economie</th>\n",
       "      <td>0.2296</td>\n",
       "      <td>18.7595</td>\n",
       "      <td>7</td>\n",
       "      <td>Jadot</td>\n",
       "    </tr>\n",
       "    <tr>\n",
       "      <th>education</th>\n",
       "      <td>0.1839</td>\n",
       "      <td>15.0946</td>\n",
       "      <td>6</td>\n",
       "      <td>Jadot</td>\n",
       "    </tr>\n",
       "    <tr>\n",
       "      <th>immigration</th>\n",
       "      <td>0.1293</td>\n",
       "      <td>10.7849</td>\n",
       "      <td>5</td>\n",
       "      <td>Jadot</td>\n",
       "    </tr>\n",
       "    <tr>\n",
       "      <th>sante</th>\n",
       "      <td>0.1184</td>\n",
       "      <td>10.3812</td>\n",
       "      <td>5</td>\n",
       "      <td>Jadot</td>\n",
       "    </tr>\n",
       "    <tr>\n",
       "      <th>securite_defense</th>\n",
       "      <td>0.2413</td>\n",
       "      <td>18.8277</td>\n",
       "      <td>5</td>\n",
       "      <td>Jadot</td>\n",
       "    </tr>\n",
       "  </tbody>\n",
       "</table>\n",
       "</div>"
      ],
      "text/plain": [
       "                  occurence_moy  tweets_lies  occurence_max candidat\n",
       "ecologie                 0.1723      14.0827              7    Jadot\n",
       "economie                 0.2296      18.7595              7    Jadot\n",
       "education                0.1839      15.0946              6    Jadot\n",
       "immigration              0.1293      10.7849              5    Jadot\n",
       "sante                    0.1184      10.3812              5    Jadot\n",
       "securite_defense         0.2413      18.8277              5    Jadot"
      ]
     },
     "execution_count": 35,
     "metadata": {},
     "output_type": "execute_result"
    }
   ],
   "source": [
    "insights_jadot = themes_by_candidate(\"Jadot\")\n",
    "df_jadot = pd.DataFrame(insights_jadot, index = [\"ecologie\", \"economie\", \"education\", \"immigration\", \"sante\", \"securite_defense\"])\n",
    "df_jadot[\"candidat\"] = [\"Jadot\", \"Jadot\", \"Jadot\", \"Jadot\", \"Jadot\", \"Jadot\"]\n",
    "df_jadot"
   ]
  },
  {
   "cell_type": "code",
   "execution_count": 38,
   "id": "d645e393",
   "metadata": {},
   "outputs": [
    {
     "name": "stdout",
     "output_type": "stream",
     "text": [
      "Fichier parsé:  C:/Users/cesar/Desktop/UTC/GI04/TX00/TX00/Snscrape/Output/Pécresse.json\n",
      "theme:  C:/Users/cesar/Desktop/UTC/GI04/TX00/TX00/NLP/ecologie.txt\n",
      " Occurence moyenne par tweet: 0.03\n",
      " Taux de tweets liés au thème: 2.36 %\n",
      " Nombre d'occurence max dans un tweet:  4\n",
      "--------------------------------------------------------------------------------------------------\n",
      "theme:  C:/Users/cesar/Desktop/UTC/GI04/TX00/TX00/NLP/economie.txt\n",
      " Occurence moyenne par tweet: 0.14\n",
      " Taux de tweets liés au thème: 12.21 %\n",
      " Nombre d'occurence max dans un tweet:  6\n",
      "--------------------------------------------------------------------------------------------------\n",
      "theme:  C:/Users/cesar/Desktop/UTC/GI04/TX00/TX00/NLP/education.txt\n",
      " Occurence moyenne par tweet: 0.16\n",
      " Taux de tweets liés au thème: 13.73 %\n",
      " Nombre d'occurence max dans un tweet:  8\n",
      "--------------------------------------------------------------------------------------------------\n",
      "theme:  C:/Users/cesar/Desktop/UTC/GI04/TX00/TX00/NLP/immigration.txt\n",
      " Occurence moyenne par tweet: 0.08\n",
      " Taux de tweets liés au thème: 6.96 %\n",
      " Nombre d'occurence max dans un tweet:  5\n",
      "--------------------------------------------------------------------------------------------------\n",
      "theme:  C:/Users/cesar/Desktop/UTC/GI04/TX00/TX00/NLP/sante.txt\n",
      " Occurence moyenne par tweet: 0.09\n",
      " Taux de tweets liés au thème: 7.82 %\n",
      " Nombre d'occurence max dans un tweet:  6\n",
      "--------------------------------------------------------------------------------------------------\n",
      "theme:  C:/Users/cesar/Desktop/UTC/GI04/TX00/TX00/NLP/securite_defense.txt\n",
      " Occurence moyenne par tweet: 0.17\n",
      " Taux de tweets liés au thème: 14.50 %\n",
      " Nombre d'occurence max dans un tweet:  6\n",
      "--------------------------------------------------------------------------------------------------\n"
     ]
    },
    {
     "data": {
      "text/html": [
       "<div>\n",
       "<style scoped>\n",
       "    .dataframe tbody tr th:only-of-type {\n",
       "        vertical-align: middle;\n",
       "    }\n",
       "\n",
       "    .dataframe tbody tr th {\n",
       "        vertical-align: top;\n",
       "    }\n",
       "\n",
       "    .dataframe thead th {\n",
       "        text-align: right;\n",
       "    }\n",
       "</style>\n",
       "<table border=\"1\" class=\"dataframe\">\n",
       "  <thead>\n",
       "    <tr style=\"text-align: right;\">\n",
       "      <th></th>\n",
       "      <th>occurence_moy</th>\n",
       "      <th>tweets_lies</th>\n",
       "      <th>occurence_max</th>\n",
       "      <th>candidat</th>\n",
       "    </tr>\n",
       "  </thead>\n",
       "  <tbody>\n",
       "    <tr>\n",
       "      <th>ecologie</th>\n",
       "      <td>0.0251</td>\n",
       "      <td>2.3604</td>\n",
       "      <td>4</td>\n",
       "      <td>Pécresse</td>\n",
       "    </tr>\n",
       "    <tr>\n",
       "      <th>economie</th>\n",
       "      <td>0.1415</td>\n",
       "      <td>12.2107</td>\n",
       "      <td>6</td>\n",
       "      <td>Pécresse</td>\n",
       "    </tr>\n",
       "    <tr>\n",
       "      <th>education</th>\n",
       "      <td>0.1647</td>\n",
       "      <td>13.7292</td>\n",
       "      <td>8</td>\n",
       "      <td>Pécresse</td>\n",
       "    </tr>\n",
       "    <tr>\n",
       "      <th>immigration</th>\n",
       "      <td>0.0781</td>\n",
       "      <td>6.9563</td>\n",
       "      <td>5</td>\n",
       "      <td>Pécresse</td>\n",
       "    </tr>\n",
       "    <tr>\n",
       "      <th>sante</th>\n",
       "      <td>0.0867</td>\n",
       "      <td>7.8204</td>\n",
       "      <td>6</td>\n",
       "      <td>Pécresse</td>\n",
       "    </tr>\n",
       "    <tr>\n",
       "      <th>securite_defense</th>\n",
       "      <td>0.1737</td>\n",
       "      <td>14.4989</td>\n",
       "      <td>6</td>\n",
       "      <td>Pécresse</td>\n",
       "    </tr>\n",
       "  </tbody>\n",
       "</table>\n",
       "</div>"
      ],
      "text/plain": [
       "                  occurence_moy  tweets_lies  occurence_max  candidat\n",
       "ecologie                 0.0251       2.3604              4  Pécresse\n",
       "economie                 0.1415      12.2107              6  Pécresse\n",
       "education                0.1647      13.7292              8  Pécresse\n",
       "immigration              0.0781       6.9563              5  Pécresse\n",
       "sante                    0.0867       7.8204              6  Pécresse\n",
       "securite_defense         0.1737      14.4989              6  Pécresse"
      ]
     },
     "execution_count": 38,
     "metadata": {},
     "output_type": "execute_result"
    }
   ],
   "source": [
    "insights_pecresse = themes_by_candidate(\"Pécresse\")\n",
    "df_pecresse = pd.DataFrame(insights_pecresse, index = [\"ecologie\", \"economie\", \"education\", \"immigration\", \"sante\", \"securite_defense\"])\n",
    "df_pecresse[\"candidat\"] = [\"Pécresse\", \"Pécresse\", \"Pécresse\", \"Pécresse\", \"Pécresse\", \"Pécresse\"]\n",
    "df_pecresse"
   ]
  },
  {
   "cell_type": "code",
   "execution_count": 41,
   "id": "43431dd1",
   "metadata": {},
   "outputs": [
    {
     "name": "stdout",
     "output_type": "stream",
     "text": [
      "Fichier parsé:  C:/Users/cesar/Desktop/UTC/GI04/TX00/TX00/Snscrape/Output/Lepen.json\n",
      "theme:  C:/Users/cesar/Desktop/UTC/GI04/TX00/TX00/NLP/ecologie.txt\n",
      " Occurence moyenne par tweet: 0.04\n",
      " Taux de tweets liés au thème: 3.65 %\n",
      " Nombre d'occurence max dans un tweet:  4\n",
      "--------------------------------------------------------------------------------------------------\n",
      "theme:  C:/Users/cesar/Desktop/UTC/GI04/TX00/TX00/NLP/economie.txt\n",
      " Occurence moyenne par tweet: 0.13\n",
      " Taux de tweets liés au thème: 10.56 %\n",
      " Nombre d'occurence max dans un tweet:  6\n",
      "--------------------------------------------------------------------------------------------------\n",
      "theme:  C:/Users/cesar/Desktop/UTC/GI04/TX00/TX00/NLP/education.txt\n",
      " Occurence moyenne par tweet: 0.14\n",
      " Taux de tweets liés au thème: 11.76 %\n",
      " Nombre d'occurence max dans un tweet:  6\n",
      "--------------------------------------------------------------------------------------------------\n",
      "theme:  C:/Users/cesar/Desktop/UTC/GI04/TX00/TX00/NLP/immigration.txt\n",
      " Occurence moyenne par tweet: 0.10\n",
      " Taux de tweets liés au thème: 8.92 %\n",
      " Nombre d'occurence max dans un tweet:  5\n",
      "--------------------------------------------------------------------------------------------------\n",
      "theme:  C:/Users/cesar/Desktop/UTC/GI04/TX00/TX00/NLP/sante.txt\n",
      " Occurence moyenne par tweet: 0.07\n",
      " Taux de tweets liés au thème: 6.63 %\n",
      " Nombre d'occurence max dans un tweet:  5\n",
      "--------------------------------------------------------------------------------------------------\n",
      "theme:  C:/Users/cesar/Desktop/UTC/GI04/TX00/TX00/NLP/securite_defense.txt\n",
      " Occurence moyenne par tweet: 0.17\n",
      " Taux de tweets liés au thème: 13.49 %\n",
      " Nombre d'occurence max dans un tweet:  6\n",
      "--------------------------------------------------------------------------------------------------\n"
     ]
    },
    {
     "data": {
      "text/html": [
       "<div>\n",
       "<style scoped>\n",
       "    .dataframe tbody tr th:only-of-type {\n",
       "        vertical-align: middle;\n",
       "    }\n",
       "\n",
       "    .dataframe tbody tr th {\n",
       "        vertical-align: top;\n",
       "    }\n",
       "\n",
       "    .dataframe thead th {\n",
       "        text-align: right;\n",
       "    }\n",
       "</style>\n",
       "<table border=\"1\" class=\"dataframe\">\n",
       "  <thead>\n",
       "    <tr style=\"text-align: right;\">\n",
       "      <th></th>\n",
       "      <th>occurence_moy</th>\n",
       "      <th>tweets_lies</th>\n",
       "      <th>occurence_max</th>\n",
       "      <th>candidat</th>\n",
       "    </tr>\n",
       "  </thead>\n",
       "  <tbody>\n",
       "    <tr>\n",
       "      <th>ecologie</th>\n",
       "      <td>0.0399</td>\n",
       "      <td>3.6496</td>\n",
       "      <td>4</td>\n",
       "      <td>Lepen</td>\n",
       "    </tr>\n",
       "    <tr>\n",
       "      <th>economie</th>\n",
       "      <td>0.1253</td>\n",
       "      <td>10.5590</td>\n",
       "      <td>6</td>\n",
       "      <td>Lepen</td>\n",
       "    </tr>\n",
       "    <tr>\n",
       "      <th>education</th>\n",
       "      <td>0.1430</td>\n",
       "      <td>11.7650</td>\n",
       "      <td>6</td>\n",
       "      <td>Lepen</td>\n",
       "    </tr>\n",
       "    <tr>\n",
       "      <th>immigration</th>\n",
       "      <td>0.1024</td>\n",
       "      <td>8.9155</td>\n",
       "      <td>5</td>\n",
       "      <td>Lepen</td>\n",
       "    </tr>\n",
       "    <tr>\n",
       "      <th>sante</th>\n",
       "      <td>0.0740</td>\n",
       "      <td>6.6328</td>\n",
       "      <td>5</td>\n",
       "      <td>Lepen</td>\n",
       "    </tr>\n",
       "    <tr>\n",
       "      <th>securite_defense</th>\n",
       "      <td>0.1658</td>\n",
       "      <td>13.4855</td>\n",
       "      <td>6</td>\n",
       "      <td>Lepen</td>\n",
       "    </tr>\n",
       "  </tbody>\n",
       "</table>\n",
       "</div>"
      ],
      "text/plain": [
       "                  occurence_moy  tweets_lies  occurence_max candidat\n",
       "ecologie                 0.0399       3.6496              4    Lepen\n",
       "economie                 0.1253      10.5590              6    Lepen\n",
       "education                0.1430      11.7650              6    Lepen\n",
       "immigration              0.1024       8.9155              5    Lepen\n",
       "sante                    0.0740       6.6328              5    Lepen\n",
       "securite_defense         0.1658      13.4855              6    Lepen"
      ]
     },
     "execution_count": 41,
     "metadata": {},
     "output_type": "execute_result"
    }
   ],
   "source": [
    "insights_lepen = themes_by_candidate(\"Lepen\")\n",
    "df_lepen = pd.DataFrame(insights_lepen, index = [\"ecologie\", \"economie\", \"education\", \"immigration\", \"sante\", \"securite_defense\"])\n",
    "df_lepen[\"candidat\"] = [\"Lepen\", \"Lepen\", \"Lepen\", \"Lepen\", \"Lepen\", \"Lepen\"]\n",
    "df_lepen"
   ]
  },
  {
   "cell_type": "code",
   "execution_count": 44,
   "id": "7251c8f4",
   "metadata": {},
   "outputs": [
    {
     "name": "stdout",
     "output_type": "stream",
     "text": [
      "Fichier parsé:  C:/Users/cesar/Desktop/UTC/GI04/TX00/TX00/Snscrape/Output/Macron.json\n",
      "theme:  C:/Users/cesar/Desktop/UTC/GI04/TX00/TX00/NLP/ecologie.txt\n",
      " Occurence moyenne par tweet: 0.04\n",
      " Taux de tweets liés au thème: 4.03 %\n",
      " Nombre d'occurence max dans un tweet:  9\n",
      "--------------------------------------------------------------------------------------------------\n",
      "theme:  C:/Users/cesar/Desktop/UTC/GI04/TX00/TX00/NLP/economie.txt\n",
      " Occurence moyenne par tweet: 0.18\n",
      " Taux de tweets liés au thème: 14.45 %\n",
      " Nombre d'occurence max dans un tweet:  10\n",
      "--------------------------------------------------------------------------------------------------\n",
      "theme:  C:/Users/cesar/Desktop/UTC/GI04/TX00/TX00/NLP/education.txt\n",
      " Occurence moyenne par tweet: 0.21\n",
      " Taux de tweets liés au thème: 16.95 %\n",
      " Nombre d'occurence max dans un tweet:  8\n",
      "--------------------------------------------------------------------------------------------------\n",
      "theme:  C:/Users/cesar/Desktop/UTC/GI04/TX00/TX00/NLP/immigration.txt\n",
      " Occurence moyenne par tweet: 0.12\n",
      " Taux de tweets liés au thème: 10.14 %\n",
      " Nombre d'occurence max dans un tweet:  7\n",
      "--------------------------------------------------------------------------------------------------\n",
      "theme:  C:/Users/cesar/Desktop/UTC/GI04/TX00/TX00/NLP/sante.txt\n",
      " Occurence moyenne par tweet: 0.12\n",
      " Taux de tweets liés au thème: 10.25 %\n",
      " Nombre d'occurence max dans un tweet:  8\n",
      "--------------------------------------------------------------------------------------------------\n",
      "theme:  C:/Users/cesar/Desktop/UTC/GI04/TX00/TX00/NLP/securite_defense.txt\n",
      " Occurence moyenne par tweet: 0.24\n",
      " Taux de tweets liés au thème: 18.75 %\n",
      " Nombre d'occurence max dans un tweet:  9\n",
      "--------------------------------------------------------------------------------------------------\n"
     ]
    },
    {
     "data": {
      "text/html": [
       "<div>\n",
       "<style scoped>\n",
       "    .dataframe tbody tr th:only-of-type {\n",
       "        vertical-align: middle;\n",
       "    }\n",
       "\n",
       "    .dataframe tbody tr th {\n",
       "        vertical-align: top;\n",
       "    }\n",
       "\n",
       "    .dataframe thead th {\n",
       "        text-align: right;\n",
       "    }\n",
       "</style>\n",
       "<table border=\"1\" class=\"dataframe\">\n",
       "  <thead>\n",
       "    <tr style=\"text-align: right;\">\n",
       "      <th></th>\n",
       "      <th>occurence_moy</th>\n",
       "      <th>tweets_lies</th>\n",
       "      <th>occurence_max</th>\n",
       "      <th>candidat</th>\n",
       "    </tr>\n",
       "  </thead>\n",
       "  <tbody>\n",
       "    <tr>\n",
       "      <th>ecologie</th>\n",
       "      <td>0.0447</td>\n",
       "      <td>4.0295</td>\n",
       "      <td>9</td>\n",
       "      <td>Macron</td>\n",
       "    </tr>\n",
       "    <tr>\n",
       "      <th>economie</th>\n",
       "      <td>0.1762</td>\n",
       "      <td>14.4486</td>\n",
       "      <td>10</td>\n",
       "      <td>Macron</td>\n",
       "    </tr>\n",
       "    <tr>\n",
       "      <th>education</th>\n",
       "      <td>0.2135</td>\n",
       "      <td>16.9505</td>\n",
       "      <td>8</td>\n",
       "      <td>Macron</td>\n",
       "    </tr>\n",
       "    <tr>\n",
       "      <th>immigration</th>\n",
       "      <td>0.1190</td>\n",
       "      <td>10.1365</td>\n",
       "      <td>7</td>\n",
       "      <td>Macron</td>\n",
       "    </tr>\n",
       "    <tr>\n",
       "      <th>sante</th>\n",
       "      <td>0.1206</td>\n",
       "      <td>10.2541</td>\n",
       "      <td>8</td>\n",
       "      <td>Macron</td>\n",
       "    </tr>\n",
       "    <tr>\n",
       "      <th>securite_defense</th>\n",
       "      <td>0.2392</td>\n",
       "      <td>18.7468</td>\n",
       "      <td>9</td>\n",
       "      <td>Macron</td>\n",
       "    </tr>\n",
       "  </tbody>\n",
       "</table>\n",
       "</div>"
      ],
      "text/plain": [
       "                  occurence_moy  tweets_lies  occurence_max candidat\n",
       "ecologie                 0.0447       4.0295              9   Macron\n",
       "economie                 0.1762      14.4486             10   Macron\n",
       "education                0.2135      16.9505              8   Macron\n",
       "immigration              0.1190      10.1365              7   Macron\n",
       "sante                    0.1206      10.2541              8   Macron\n",
       "securite_defense         0.2392      18.7468              9   Macron"
      ]
     },
     "execution_count": 44,
     "metadata": {},
     "output_type": "execute_result"
    }
   ],
   "source": [
    "insights_macron = themes_by_candidate(\"Macron\")\n",
    "df_macron = pd.DataFrame(insights_macron, index = [\"ecologie\", \"economie\", \"education\", \"immigration\", \"sante\", \"securite_defense\"])\n",
    "df_macron[\"candidat\"] = [\"Macron\", \"Macron\", \"Macron\", \"Macron\", \"Macron\", \"Macron\"]\n",
    "df_macron"
   ]
  },
  {
   "cell_type": "code",
   "execution_count": 15,
   "id": "95b03ebc",
   "metadata": {},
   "outputs": [
    {
     "data": {
      "application/vnd.plotly.v1+json": {
       "config": {
        "plotlyServerURL": "https://plot.ly"
       },
       "data": [
        {
         "alignmentgroup": "True",
         "hovertemplate": "index=%{x}<br>tweets_lies=%{y}<extra></extra>",
         "legendgroup": "",
         "marker": {
          "color": "#636efa",
          "pattern": {
           "shape": ""
          }
         },
         "name": "",
         "offsetgroup": "",
         "orientation": "v",
         "showlegend": false,
         "textposition": "auto",
         "type": "bar",
         "x": [
          "ecologie",
          "economie",
          "education",
          "immigration",
          "sante",
          "securite_defense"
         ],
         "xaxis": "x",
         "y": [
          1.5974,
          14.1374,
          15.8946,
          6.1502,
          5.9904,
          11.0224
         ],
         "yaxis": "y"
        }
       ],
       "layout": {
        "barmode": "relative",
        "legend": {
         "tracegroupgap": 0
        },
        "margin": {
         "t": 60
        },
        "template": {
         "data": {
          "bar": [
           {
            "error_x": {
             "color": "#2a3f5f"
            },
            "error_y": {
             "color": "#2a3f5f"
            },
            "marker": {
             "line": {
              "color": "#E5ECF6",
              "width": 0.5
             },
             "pattern": {
              "fillmode": "overlay",
              "size": 10,
              "solidity": 0.2
             }
            },
            "type": "bar"
           }
          ],
          "barpolar": [
           {
            "marker": {
             "line": {
              "color": "#E5ECF6",
              "width": 0.5
             },
             "pattern": {
              "fillmode": "overlay",
              "size": 10,
              "solidity": 0.2
             }
            },
            "type": "barpolar"
           }
          ],
          "carpet": [
           {
            "aaxis": {
             "endlinecolor": "#2a3f5f",
             "gridcolor": "white",
             "linecolor": "white",
             "minorgridcolor": "white",
             "startlinecolor": "#2a3f5f"
            },
            "baxis": {
             "endlinecolor": "#2a3f5f",
             "gridcolor": "white",
             "linecolor": "white",
             "minorgridcolor": "white",
             "startlinecolor": "#2a3f5f"
            },
            "type": "carpet"
           }
          ],
          "choropleth": [
           {
            "colorbar": {
             "outlinewidth": 0,
             "ticks": ""
            },
            "type": "choropleth"
           }
          ],
          "contour": [
           {
            "colorbar": {
             "outlinewidth": 0,
             "ticks": ""
            },
            "colorscale": [
             [
              0,
              "#0d0887"
             ],
             [
              0.1111111111111111,
              "#46039f"
             ],
             [
              0.2222222222222222,
              "#7201a8"
             ],
             [
              0.3333333333333333,
              "#9c179e"
             ],
             [
              0.4444444444444444,
              "#bd3786"
             ],
             [
              0.5555555555555556,
              "#d8576b"
             ],
             [
              0.6666666666666666,
              "#ed7953"
             ],
             [
              0.7777777777777778,
              "#fb9f3a"
             ],
             [
              0.8888888888888888,
              "#fdca26"
             ],
             [
              1,
              "#f0f921"
             ]
            ],
            "type": "contour"
           }
          ],
          "contourcarpet": [
           {
            "colorbar": {
             "outlinewidth": 0,
             "ticks": ""
            },
            "type": "contourcarpet"
           }
          ],
          "heatmap": [
           {
            "colorbar": {
             "outlinewidth": 0,
             "ticks": ""
            },
            "colorscale": [
             [
              0,
              "#0d0887"
             ],
             [
              0.1111111111111111,
              "#46039f"
             ],
             [
              0.2222222222222222,
              "#7201a8"
             ],
             [
              0.3333333333333333,
              "#9c179e"
             ],
             [
              0.4444444444444444,
              "#bd3786"
             ],
             [
              0.5555555555555556,
              "#d8576b"
             ],
             [
              0.6666666666666666,
              "#ed7953"
             ],
             [
              0.7777777777777778,
              "#fb9f3a"
             ],
             [
              0.8888888888888888,
              "#fdca26"
             ],
             [
              1,
              "#f0f921"
             ]
            ],
            "type": "heatmap"
           }
          ],
          "heatmapgl": [
           {
            "colorbar": {
             "outlinewidth": 0,
             "ticks": ""
            },
            "colorscale": [
             [
              0,
              "#0d0887"
             ],
             [
              0.1111111111111111,
              "#46039f"
             ],
             [
              0.2222222222222222,
              "#7201a8"
             ],
             [
              0.3333333333333333,
              "#9c179e"
             ],
             [
              0.4444444444444444,
              "#bd3786"
             ],
             [
              0.5555555555555556,
              "#d8576b"
             ],
             [
              0.6666666666666666,
              "#ed7953"
             ],
             [
              0.7777777777777778,
              "#fb9f3a"
             ],
             [
              0.8888888888888888,
              "#fdca26"
             ],
             [
              1,
              "#f0f921"
             ]
            ],
            "type": "heatmapgl"
           }
          ],
          "histogram": [
           {
            "marker": {
             "pattern": {
              "fillmode": "overlay",
              "size": 10,
              "solidity": 0.2
             }
            },
            "type": "histogram"
           }
          ],
          "histogram2d": [
           {
            "colorbar": {
             "outlinewidth": 0,
             "ticks": ""
            },
            "colorscale": [
             [
              0,
              "#0d0887"
             ],
             [
              0.1111111111111111,
              "#46039f"
             ],
             [
              0.2222222222222222,
              "#7201a8"
             ],
             [
              0.3333333333333333,
              "#9c179e"
             ],
             [
              0.4444444444444444,
              "#bd3786"
             ],
             [
              0.5555555555555556,
              "#d8576b"
             ],
             [
              0.6666666666666666,
              "#ed7953"
             ],
             [
              0.7777777777777778,
              "#fb9f3a"
             ],
             [
              0.8888888888888888,
              "#fdca26"
             ],
             [
              1,
              "#f0f921"
             ]
            ],
            "type": "histogram2d"
           }
          ],
          "histogram2dcontour": [
           {
            "colorbar": {
             "outlinewidth": 0,
             "ticks": ""
            },
            "colorscale": [
             [
              0,
              "#0d0887"
             ],
             [
              0.1111111111111111,
              "#46039f"
             ],
             [
              0.2222222222222222,
              "#7201a8"
             ],
             [
              0.3333333333333333,
              "#9c179e"
             ],
             [
              0.4444444444444444,
              "#bd3786"
             ],
             [
              0.5555555555555556,
              "#d8576b"
             ],
             [
              0.6666666666666666,
              "#ed7953"
             ],
             [
              0.7777777777777778,
              "#fb9f3a"
             ],
             [
              0.8888888888888888,
              "#fdca26"
             ],
             [
              1,
              "#f0f921"
             ]
            ],
            "type": "histogram2dcontour"
           }
          ],
          "mesh3d": [
           {
            "colorbar": {
             "outlinewidth": 0,
             "ticks": ""
            },
            "type": "mesh3d"
           }
          ],
          "parcoords": [
           {
            "line": {
             "colorbar": {
              "outlinewidth": 0,
              "ticks": ""
             }
            },
            "type": "parcoords"
           }
          ],
          "pie": [
           {
            "automargin": true,
            "type": "pie"
           }
          ],
          "scatter": [
           {
            "marker": {
             "colorbar": {
              "outlinewidth": 0,
              "ticks": ""
             }
            },
            "type": "scatter"
           }
          ],
          "scatter3d": [
           {
            "line": {
             "colorbar": {
              "outlinewidth": 0,
              "ticks": ""
             }
            },
            "marker": {
             "colorbar": {
              "outlinewidth": 0,
              "ticks": ""
             }
            },
            "type": "scatter3d"
           }
          ],
          "scattercarpet": [
           {
            "marker": {
             "colorbar": {
              "outlinewidth": 0,
              "ticks": ""
             }
            },
            "type": "scattercarpet"
           }
          ],
          "scattergeo": [
           {
            "marker": {
             "colorbar": {
              "outlinewidth": 0,
              "ticks": ""
             }
            },
            "type": "scattergeo"
           }
          ],
          "scattergl": [
           {
            "marker": {
             "colorbar": {
              "outlinewidth": 0,
              "ticks": ""
             }
            },
            "type": "scattergl"
           }
          ],
          "scattermapbox": [
           {
            "marker": {
             "colorbar": {
              "outlinewidth": 0,
              "ticks": ""
             }
            },
            "type": "scattermapbox"
           }
          ],
          "scatterpolar": [
           {
            "marker": {
             "colorbar": {
              "outlinewidth": 0,
              "ticks": ""
             }
            },
            "type": "scatterpolar"
           }
          ],
          "scatterpolargl": [
           {
            "marker": {
             "colorbar": {
              "outlinewidth": 0,
              "ticks": ""
             }
            },
            "type": "scatterpolargl"
           }
          ],
          "scatterternary": [
           {
            "marker": {
             "colorbar": {
              "outlinewidth": 0,
              "ticks": ""
             }
            },
            "type": "scatterternary"
           }
          ],
          "surface": [
           {
            "colorbar": {
             "outlinewidth": 0,
             "ticks": ""
            },
            "colorscale": [
             [
              0,
              "#0d0887"
             ],
             [
              0.1111111111111111,
              "#46039f"
             ],
             [
              0.2222222222222222,
              "#7201a8"
             ],
             [
              0.3333333333333333,
              "#9c179e"
             ],
             [
              0.4444444444444444,
              "#bd3786"
             ],
             [
              0.5555555555555556,
              "#d8576b"
             ],
             [
              0.6666666666666666,
              "#ed7953"
             ],
             [
              0.7777777777777778,
              "#fb9f3a"
             ],
             [
              0.8888888888888888,
              "#fdca26"
             ],
             [
              1,
              "#f0f921"
             ]
            ],
            "type": "surface"
           }
          ],
          "table": [
           {
            "cells": {
             "fill": {
              "color": "#EBF0F8"
             },
             "line": {
              "color": "white"
             }
            },
            "header": {
             "fill": {
              "color": "#C8D4E3"
             },
             "line": {
              "color": "white"
             }
            },
            "type": "table"
           }
          ]
         },
         "layout": {
          "annotationdefaults": {
           "arrowcolor": "#2a3f5f",
           "arrowhead": 0,
           "arrowwidth": 1
          },
          "autotypenumbers": "strict",
          "coloraxis": {
           "colorbar": {
            "outlinewidth": 0,
            "ticks": ""
           }
          },
          "colorscale": {
           "diverging": [
            [
             0,
             "#8e0152"
            ],
            [
             0.1,
             "#c51b7d"
            ],
            [
             0.2,
             "#de77ae"
            ],
            [
             0.3,
             "#f1b6da"
            ],
            [
             0.4,
             "#fde0ef"
            ],
            [
             0.5,
             "#f7f7f7"
            ],
            [
             0.6,
             "#e6f5d0"
            ],
            [
             0.7,
             "#b8e186"
            ],
            [
             0.8,
             "#7fbc41"
            ],
            [
             0.9,
             "#4d9221"
            ],
            [
             1,
             "#276419"
            ]
           ],
           "sequential": [
            [
             0,
             "#0d0887"
            ],
            [
             0.1111111111111111,
             "#46039f"
            ],
            [
             0.2222222222222222,
             "#7201a8"
            ],
            [
             0.3333333333333333,
             "#9c179e"
            ],
            [
             0.4444444444444444,
             "#bd3786"
            ],
            [
             0.5555555555555556,
             "#d8576b"
            ],
            [
             0.6666666666666666,
             "#ed7953"
            ],
            [
             0.7777777777777778,
             "#fb9f3a"
            ],
            [
             0.8888888888888888,
             "#fdca26"
            ],
            [
             1,
             "#f0f921"
            ]
           ],
           "sequentialminus": [
            [
             0,
             "#0d0887"
            ],
            [
             0.1111111111111111,
             "#46039f"
            ],
            [
             0.2222222222222222,
             "#7201a8"
            ],
            [
             0.3333333333333333,
             "#9c179e"
            ],
            [
             0.4444444444444444,
             "#bd3786"
            ],
            [
             0.5555555555555556,
             "#d8576b"
            ],
            [
             0.6666666666666666,
             "#ed7953"
            ],
            [
             0.7777777777777778,
             "#fb9f3a"
            ],
            [
             0.8888888888888888,
             "#fdca26"
            ],
            [
             1,
             "#f0f921"
            ]
           ]
          },
          "colorway": [
           "#636efa",
           "#EF553B",
           "#00cc96",
           "#ab63fa",
           "#FFA15A",
           "#19d3f3",
           "#FF6692",
           "#B6E880",
           "#FF97FF",
           "#FECB52"
          ],
          "font": {
           "color": "#2a3f5f"
          },
          "geo": {
           "bgcolor": "white",
           "lakecolor": "white",
           "landcolor": "#E5ECF6",
           "showlakes": true,
           "showland": true,
           "subunitcolor": "white"
          },
          "hoverlabel": {
           "align": "left"
          },
          "hovermode": "closest",
          "mapbox": {
           "style": "light"
          },
          "paper_bgcolor": "white",
          "plot_bgcolor": "#E5ECF6",
          "polar": {
           "angularaxis": {
            "gridcolor": "white",
            "linecolor": "white",
            "ticks": ""
           },
           "bgcolor": "#E5ECF6",
           "radialaxis": {
            "gridcolor": "white",
            "linecolor": "white",
            "ticks": ""
           }
          },
          "scene": {
           "xaxis": {
            "backgroundcolor": "#E5ECF6",
            "gridcolor": "white",
            "gridwidth": 2,
            "linecolor": "white",
            "showbackground": true,
            "ticks": "",
            "zerolinecolor": "white"
           },
           "yaxis": {
            "backgroundcolor": "#E5ECF6",
            "gridcolor": "white",
            "gridwidth": 2,
            "linecolor": "white",
            "showbackground": true,
            "ticks": "",
            "zerolinecolor": "white"
           },
           "zaxis": {
            "backgroundcolor": "#E5ECF6",
            "gridcolor": "white",
            "gridwidth": 2,
            "linecolor": "white",
            "showbackground": true,
            "ticks": "",
            "zerolinecolor": "white"
           }
          },
          "shapedefaults": {
           "line": {
            "color": "#2a3f5f"
           }
          },
          "ternary": {
           "aaxis": {
            "gridcolor": "white",
            "linecolor": "white",
            "ticks": ""
           },
           "baxis": {
            "gridcolor": "white",
            "linecolor": "white",
            "ticks": ""
           },
           "bgcolor": "#E5ECF6",
           "caxis": {
            "gridcolor": "white",
            "linecolor": "white",
            "ticks": ""
           }
          },
          "title": {
           "x": 0.05
          },
          "xaxis": {
           "automargin": true,
           "gridcolor": "white",
           "linecolor": "white",
           "ticks": "",
           "title": {
            "standoff": 15
           },
           "zerolinecolor": "white",
           "zerolinewidth": 2
          },
          "yaxis": {
           "automargin": true,
           "gridcolor": "white",
           "linecolor": "white",
           "ticks": "",
           "title": {
            "standoff": 15
           },
           "zerolinecolor": "white",
           "zerolinewidth": 2
          }
         }
        },
        "xaxis": {
         "anchor": "y",
         "domain": [
          0,
          1
         ],
         "title": {
          "text": "index"
         }
        },
        "yaxis": {
         "anchor": "x",
         "domain": [
          0,
          1
         ],
         "title": {
          "text": "tweets_lies"
         }
        }
       }
      },
      "text/html": [
       "<div>                            <div id=\"9e574fad-57a0-4527-a9f0-3d0ab25aa932\" class=\"plotly-graph-div\" style=\"height:525px; width:100%;\"></div>            <script type=\"text/javascript\">                require([\"plotly\"], function(Plotly) {                    window.PLOTLYENV=window.PLOTLYENV || {};                                    if (document.getElementById(\"9e574fad-57a0-4527-a9f0-3d0ab25aa932\")) {                    Plotly.newPlot(                        \"9e574fad-57a0-4527-a9f0-3d0ab25aa932\",                        [{\"alignmentgroup\":\"True\",\"hovertemplate\":\"index=%{x}<br>tweets_lies=%{y}<extra></extra>\",\"legendgroup\":\"\",\"marker\":{\"color\":\"#636efa\",\"pattern\":{\"shape\":\"\"}},\"name\":\"\",\"offsetgroup\":\"\",\"orientation\":\"v\",\"showlegend\":false,\"textposition\":\"auto\",\"x\":[\"ecologie\",\"economie\",\"education\",\"immigration\",\"sante\",\"securite_defense\"],\"xaxis\":\"x\",\"y\":[1.5974,14.1374,15.8946,6.1502,5.9904,11.0224],\"yaxis\":\"y\",\"type\":\"bar\"}],                        {\"template\":{\"data\":{\"bar\":[{\"error_x\":{\"color\":\"#2a3f5f\"},\"error_y\":{\"color\":\"#2a3f5f\"},\"marker\":{\"line\":{\"color\":\"#E5ECF6\",\"width\":0.5},\"pattern\":{\"fillmode\":\"overlay\",\"size\":10,\"solidity\":0.2}},\"type\":\"bar\"}],\"barpolar\":[{\"marker\":{\"line\":{\"color\":\"#E5ECF6\",\"width\":0.5},\"pattern\":{\"fillmode\":\"overlay\",\"size\":10,\"solidity\":0.2}},\"type\":\"barpolar\"}],\"carpet\":[{\"aaxis\":{\"endlinecolor\":\"#2a3f5f\",\"gridcolor\":\"white\",\"linecolor\":\"white\",\"minorgridcolor\":\"white\",\"startlinecolor\":\"#2a3f5f\"},\"baxis\":{\"endlinecolor\":\"#2a3f5f\",\"gridcolor\":\"white\",\"linecolor\":\"white\",\"minorgridcolor\":\"white\",\"startlinecolor\":\"#2a3f5f\"},\"type\":\"carpet\"}],\"choropleth\":[{\"colorbar\":{\"outlinewidth\":0,\"ticks\":\"\"},\"type\":\"choropleth\"}],\"contour\":[{\"colorbar\":{\"outlinewidth\":0,\"ticks\":\"\"},\"colorscale\":[[0.0,\"#0d0887\"],[0.1111111111111111,\"#46039f\"],[0.2222222222222222,\"#7201a8\"],[0.3333333333333333,\"#9c179e\"],[0.4444444444444444,\"#bd3786\"],[0.5555555555555556,\"#d8576b\"],[0.6666666666666666,\"#ed7953\"],[0.7777777777777778,\"#fb9f3a\"],[0.8888888888888888,\"#fdca26\"],[1.0,\"#f0f921\"]],\"type\":\"contour\"}],\"contourcarpet\":[{\"colorbar\":{\"outlinewidth\":0,\"ticks\":\"\"},\"type\":\"contourcarpet\"}],\"heatmap\":[{\"colorbar\":{\"outlinewidth\":0,\"ticks\":\"\"},\"colorscale\":[[0.0,\"#0d0887\"],[0.1111111111111111,\"#46039f\"],[0.2222222222222222,\"#7201a8\"],[0.3333333333333333,\"#9c179e\"],[0.4444444444444444,\"#bd3786\"],[0.5555555555555556,\"#d8576b\"],[0.6666666666666666,\"#ed7953\"],[0.7777777777777778,\"#fb9f3a\"],[0.8888888888888888,\"#fdca26\"],[1.0,\"#f0f921\"]],\"type\":\"heatmap\"}],\"heatmapgl\":[{\"colorbar\":{\"outlinewidth\":0,\"ticks\":\"\"},\"colorscale\":[[0.0,\"#0d0887\"],[0.1111111111111111,\"#46039f\"],[0.2222222222222222,\"#7201a8\"],[0.3333333333333333,\"#9c179e\"],[0.4444444444444444,\"#bd3786\"],[0.5555555555555556,\"#d8576b\"],[0.6666666666666666,\"#ed7953\"],[0.7777777777777778,\"#fb9f3a\"],[0.8888888888888888,\"#fdca26\"],[1.0,\"#f0f921\"]],\"type\":\"heatmapgl\"}],\"histogram\":[{\"marker\":{\"pattern\":{\"fillmode\":\"overlay\",\"size\":10,\"solidity\":0.2}},\"type\":\"histogram\"}],\"histogram2d\":[{\"colorbar\":{\"outlinewidth\":0,\"ticks\":\"\"},\"colorscale\":[[0.0,\"#0d0887\"],[0.1111111111111111,\"#46039f\"],[0.2222222222222222,\"#7201a8\"],[0.3333333333333333,\"#9c179e\"],[0.4444444444444444,\"#bd3786\"],[0.5555555555555556,\"#d8576b\"],[0.6666666666666666,\"#ed7953\"],[0.7777777777777778,\"#fb9f3a\"],[0.8888888888888888,\"#fdca26\"],[1.0,\"#f0f921\"]],\"type\":\"histogram2d\"}],\"histogram2dcontour\":[{\"colorbar\":{\"outlinewidth\":0,\"ticks\":\"\"},\"colorscale\":[[0.0,\"#0d0887\"],[0.1111111111111111,\"#46039f\"],[0.2222222222222222,\"#7201a8\"],[0.3333333333333333,\"#9c179e\"],[0.4444444444444444,\"#bd3786\"],[0.5555555555555556,\"#d8576b\"],[0.6666666666666666,\"#ed7953\"],[0.7777777777777778,\"#fb9f3a\"],[0.8888888888888888,\"#fdca26\"],[1.0,\"#f0f921\"]],\"type\":\"histogram2dcontour\"}],\"mesh3d\":[{\"colorbar\":{\"outlinewidth\":0,\"ticks\":\"\"},\"type\":\"mesh3d\"}],\"parcoords\":[{\"line\":{\"colorbar\":{\"outlinewidth\":0,\"ticks\":\"\"}},\"type\":\"parcoords\"}],\"pie\":[{\"automargin\":true,\"type\":\"pie\"}],\"scatter\":[{\"marker\":{\"colorbar\":{\"outlinewidth\":0,\"ticks\":\"\"}},\"type\":\"scatter\"}],\"scatter3d\":[{\"line\":{\"colorbar\":{\"outlinewidth\":0,\"ticks\":\"\"}},\"marker\":{\"colorbar\":{\"outlinewidth\":0,\"ticks\":\"\"}},\"type\":\"scatter3d\"}],\"scattercarpet\":[{\"marker\":{\"colorbar\":{\"outlinewidth\":0,\"ticks\":\"\"}},\"type\":\"scattercarpet\"}],\"scattergeo\":[{\"marker\":{\"colorbar\":{\"outlinewidth\":0,\"ticks\":\"\"}},\"type\":\"scattergeo\"}],\"scattergl\":[{\"marker\":{\"colorbar\":{\"outlinewidth\":0,\"ticks\":\"\"}},\"type\":\"scattergl\"}],\"scattermapbox\":[{\"marker\":{\"colorbar\":{\"outlinewidth\":0,\"ticks\":\"\"}},\"type\":\"scattermapbox\"}],\"scatterpolar\":[{\"marker\":{\"colorbar\":{\"outlinewidth\":0,\"ticks\":\"\"}},\"type\":\"scatterpolar\"}],\"scatterpolargl\":[{\"marker\":{\"colorbar\":{\"outlinewidth\":0,\"ticks\":\"\"}},\"type\":\"scatterpolargl\"}],\"scatterternary\":[{\"marker\":{\"colorbar\":{\"outlinewidth\":0,\"ticks\":\"\"}},\"type\":\"scatterternary\"}],\"surface\":[{\"colorbar\":{\"outlinewidth\":0,\"ticks\":\"\"},\"colorscale\":[[0.0,\"#0d0887\"],[0.1111111111111111,\"#46039f\"],[0.2222222222222222,\"#7201a8\"],[0.3333333333333333,\"#9c179e\"],[0.4444444444444444,\"#bd3786\"],[0.5555555555555556,\"#d8576b\"],[0.6666666666666666,\"#ed7953\"],[0.7777777777777778,\"#fb9f3a\"],[0.8888888888888888,\"#fdca26\"],[1.0,\"#f0f921\"]],\"type\":\"surface\"}],\"table\":[{\"cells\":{\"fill\":{\"color\":\"#EBF0F8\"},\"line\":{\"color\":\"white\"}},\"header\":{\"fill\":{\"color\":\"#C8D4E3\"},\"line\":{\"color\":\"white\"}},\"type\":\"table\"}]},\"layout\":{\"annotationdefaults\":{\"arrowcolor\":\"#2a3f5f\",\"arrowhead\":0,\"arrowwidth\":1},\"autotypenumbers\":\"strict\",\"coloraxis\":{\"colorbar\":{\"outlinewidth\":0,\"ticks\":\"\"}},\"colorscale\":{\"diverging\":[[0,\"#8e0152\"],[0.1,\"#c51b7d\"],[0.2,\"#de77ae\"],[0.3,\"#f1b6da\"],[0.4,\"#fde0ef\"],[0.5,\"#f7f7f7\"],[0.6,\"#e6f5d0\"],[0.7,\"#b8e186\"],[0.8,\"#7fbc41\"],[0.9,\"#4d9221\"],[1,\"#276419\"]],\"sequential\":[[0.0,\"#0d0887\"],[0.1111111111111111,\"#46039f\"],[0.2222222222222222,\"#7201a8\"],[0.3333333333333333,\"#9c179e\"],[0.4444444444444444,\"#bd3786\"],[0.5555555555555556,\"#d8576b\"],[0.6666666666666666,\"#ed7953\"],[0.7777777777777778,\"#fb9f3a\"],[0.8888888888888888,\"#fdca26\"],[1.0,\"#f0f921\"]],\"sequentialminus\":[[0.0,\"#0d0887\"],[0.1111111111111111,\"#46039f\"],[0.2222222222222222,\"#7201a8\"],[0.3333333333333333,\"#9c179e\"],[0.4444444444444444,\"#bd3786\"],[0.5555555555555556,\"#d8576b\"],[0.6666666666666666,\"#ed7953\"],[0.7777777777777778,\"#fb9f3a\"],[0.8888888888888888,\"#fdca26\"],[1.0,\"#f0f921\"]]},\"colorway\":[\"#636efa\",\"#EF553B\",\"#00cc96\",\"#ab63fa\",\"#FFA15A\",\"#19d3f3\",\"#FF6692\",\"#B6E880\",\"#FF97FF\",\"#FECB52\"],\"font\":{\"color\":\"#2a3f5f\"},\"geo\":{\"bgcolor\":\"white\",\"lakecolor\":\"white\",\"landcolor\":\"#E5ECF6\",\"showlakes\":true,\"showland\":true,\"subunitcolor\":\"white\"},\"hoverlabel\":{\"align\":\"left\"},\"hovermode\":\"closest\",\"mapbox\":{\"style\":\"light\"},\"paper_bgcolor\":\"white\",\"plot_bgcolor\":\"#E5ECF6\",\"polar\":{\"angularaxis\":{\"gridcolor\":\"white\",\"linecolor\":\"white\",\"ticks\":\"\"},\"bgcolor\":\"#E5ECF6\",\"radialaxis\":{\"gridcolor\":\"white\",\"linecolor\":\"white\",\"ticks\":\"\"}},\"scene\":{\"xaxis\":{\"backgroundcolor\":\"#E5ECF6\",\"gridcolor\":\"white\",\"gridwidth\":2,\"linecolor\":\"white\",\"showbackground\":true,\"ticks\":\"\",\"zerolinecolor\":\"white\"},\"yaxis\":{\"backgroundcolor\":\"#E5ECF6\",\"gridcolor\":\"white\",\"gridwidth\":2,\"linecolor\":\"white\",\"showbackground\":true,\"ticks\":\"\",\"zerolinecolor\":\"white\"},\"zaxis\":{\"backgroundcolor\":\"#E5ECF6\",\"gridcolor\":\"white\",\"gridwidth\":2,\"linecolor\":\"white\",\"showbackground\":true,\"ticks\":\"\",\"zerolinecolor\":\"white\"}},\"shapedefaults\":{\"line\":{\"color\":\"#2a3f5f\"}},\"ternary\":{\"aaxis\":{\"gridcolor\":\"white\",\"linecolor\":\"white\",\"ticks\":\"\"},\"baxis\":{\"gridcolor\":\"white\",\"linecolor\":\"white\",\"ticks\":\"\"},\"bgcolor\":\"#E5ECF6\",\"caxis\":{\"gridcolor\":\"white\",\"linecolor\":\"white\",\"ticks\":\"\"}},\"title\":{\"x\":0.05},\"xaxis\":{\"automargin\":true,\"gridcolor\":\"white\",\"linecolor\":\"white\",\"ticks\":\"\",\"title\":{\"standoff\":15},\"zerolinecolor\":\"white\",\"zerolinewidth\":2},\"yaxis\":{\"automargin\":true,\"gridcolor\":\"white\",\"linecolor\":\"white\",\"ticks\":\"\",\"title\":{\"standoff\":15},\"zerolinecolor\":\"white\",\"zerolinewidth\":2}}},\"xaxis\":{\"anchor\":\"y\",\"domain\":[0.0,1.0],\"title\":{\"text\":\"index\"}},\"yaxis\":{\"anchor\":\"x\",\"domain\":[0.0,1.0],\"title\":{\"text\":\"tweets_lies\"}},\"legend\":{\"tracegroupgap\":0},\"margin\":{\"t\":60},\"barmode\":\"relative\"},                        {\"responsive\": true}                    ).then(function(){\n",
       "                            \n",
       "var gd = document.getElementById('9e574fad-57a0-4527-a9f0-3d0ab25aa932');\n",
       "var x = new MutationObserver(function (mutations, observer) {{\n",
       "        var display = window.getComputedStyle(gd).display;\n",
       "        if (!display || display === 'none') {{\n",
       "            console.log([gd, 'removed!']);\n",
       "            Plotly.purge(gd);\n",
       "            observer.disconnect();\n",
       "        }}\n",
       "}});\n",
       "\n",
       "// Listen for the removal of the full notebook cells\n",
       "var notebookContainer = gd.closest('#notebook-container');\n",
       "if (notebookContainer) {{\n",
       "    x.observe(notebookContainer, {childList: true});\n",
       "}}\n",
       "\n",
       "// Listen for the clearing of the current output cell\n",
       "var outputEl = gd.closest('.output');\n",
       "if (outputEl) {{\n",
       "    x.observe(outputEl, {childList: true});\n",
       "}}\n",
       "\n",
       "                        })                };                });            </script>        </div>"
      ]
     },
     "metadata": {},
     "output_type": "display_data"
    }
   ],
   "source": [
    "fig = px.bar(df_poutou, x=df_poutou.index, y='tweets_lies')\n",
    "fig.update_layout(title=\"Poutou Insights\", xaxis_title=\"Thèmes Politique\", yaxis_title=\"Tweets concerné par les thématiques (%)\")\n",
    "\n",
    "fig = px.bar(df_arthaud, x=df_arthaud.index, y='tweets_lies')\n",
    "fig.show()"
   ]
  },
  {
   "cell_type": "code",
   "execution_count": 45,
   "id": "47919cc9",
   "metadata": {},
   "outputs": [],
   "source": [
    "df_all = pd.concat([df_hidalgo, df_poutou, df_roussel, df_arthaud, df_zemmour, df_jadot, df_pecresse, df_lepen, df_macron])"
   ]
  },
  {
   "cell_type": "code",
   "execution_count": 46,
   "id": "61570b33",
   "metadata": {},
   "outputs": [
    {
     "data": {
      "application/vnd.plotly.v1+json": {
       "config": {
        "plotlyServerURL": "https://plot.ly"
       },
       "data": [
        {
         "hovertemplate": "Candidat=Arthaud<br>Thème=%{x}<br>Taux de tweets liées=%{y}<extra></extra>",
         "name": "Arthaud",
         "type": "bar",
         "x": [
          "ecologie",
          "economie",
          "education",
          "immigration",
          "sante",
          "securite_defense",
          "ecologie",
          "economie",
          "education",
          "immigration",
          "sante",
          "securite_defense",
          "ecologie",
          "economie",
          "education",
          "immigration",
          "sante",
          "securite_defense",
          "ecologie",
          "economie",
          "education",
          "immigration",
          "sante",
          "securite_defense",
          "ecologie",
          "economie",
          "education",
          "immigration",
          "sante",
          "securite_defense",
          "ecologie",
          "economie",
          "education",
          "immigration",
          "sante",
          "securite_defense",
          "ecologie",
          "economie",
          "education",
          "immigration",
          "sante",
          "securite_defense",
          "ecologie",
          "economie",
          "education",
          "immigration",
          "sante",
          "securite_defense",
          "ecologie",
          "economie",
          "education",
          "immigration",
          "sante",
          "securite_defense"
         ],
         "y": [
          1.5974,
          14.1374,
          15.8946,
          6.1502,
          5.9904,
          11.0224
         ]
        },
        {
         "hovertemplate": "Candidat=Hidalgo<br>Thème=%{x}<br>Taux de tweets liées=%{y}<extra></extra>",
         "name": "Hidalgo",
         "type": "bar",
         "x": [
          "ecologie",
          "economie",
          "education",
          "immigration",
          "sante",
          "securite_defense",
          "ecologie",
          "economie",
          "education",
          "immigration",
          "sante",
          "securite_defense",
          "ecologie",
          "economie",
          "education",
          "immigration",
          "sante",
          "securite_defense",
          "ecologie",
          "economie",
          "education",
          "immigration",
          "sante",
          "securite_defense",
          "ecologie",
          "economie",
          "education",
          "immigration",
          "sante",
          "securite_defense",
          "ecologie",
          "economie",
          "education",
          "immigration",
          "sante",
          "securite_defense",
          "ecologie",
          "economie",
          "education",
          "immigration",
          "sante",
          "securite_defense",
          "ecologie",
          "economie",
          "education",
          "immigration",
          "sante",
          "securite_defense",
          "ecologie",
          "economie",
          "education",
          "immigration",
          "sante",
          "securite_defense"
         ],
         "y": [
          1.916,
          8.6832,
          8.7802,
          3.3015,
          4.6296,
          8.1013
         ]
        },
        {
         "hovertemplate": "Candidat=Jadot<br>Thème=%{x}<br>Taux de tweets liées=%{y}<extra></extra>",
         "name": "Jadot",
         "type": "bar",
         "x": [
          "ecologie",
          "economie",
          "education",
          "immigration",
          "sante",
          "securite_defense",
          "ecologie",
          "economie",
          "education",
          "immigration",
          "sante",
          "securite_defense",
          "ecologie",
          "economie",
          "education",
          "immigration",
          "sante",
          "securite_defense",
          "ecologie",
          "economie",
          "education",
          "immigration",
          "sante",
          "securite_defense",
          "ecologie",
          "economie",
          "education",
          "immigration",
          "sante",
          "securite_defense",
          "ecologie",
          "economie",
          "education",
          "immigration",
          "sante",
          "securite_defense",
          "ecologie",
          "economie",
          "education",
          "immigration",
          "sante",
          "securite_defense",
          "ecologie",
          "economie",
          "education",
          "immigration",
          "sante",
          "securite_defense",
          "ecologie",
          "economie",
          "education",
          "immigration",
          "sante",
          "securite_defense"
         ],
         "y": [
          14.0827,
          18.7595,
          15.0946,
          10.7849,
          10.3812,
          18.8277
         ]
        },
        {
         "hovertemplate": "Candidat=Lepen<br>Thème=%{x}<br>Taux de tweets liées=%{y}<extra></extra>",
         "name": "Lepen",
         "type": "bar",
         "x": [
          "ecologie",
          "economie",
          "education",
          "immigration",
          "sante",
          "securite_defense",
          "ecologie",
          "economie",
          "education",
          "immigration",
          "sante",
          "securite_defense",
          "ecologie",
          "economie",
          "education",
          "immigration",
          "sante",
          "securite_defense",
          "ecologie",
          "economie",
          "education",
          "immigration",
          "sante",
          "securite_defense",
          "ecologie",
          "economie",
          "education",
          "immigration",
          "sante",
          "securite_defense",
          "ecologie",
          "economie",
          "education",
          "immigration",
          "sante",
          "securite_defense",
          "ecologie",
          "economie",
          "education",
          "immigration",
          "sante",
          "securite_defense",
          "ecologie",
          "economie",
          "education",
          "immigration",
          "sante",
          "securite_defense",
          "ecologie",
          "economie",
          "education",
          "immigration",
          "sante",
          "securite_defense"
         ],
         "y": [
          3.6496,
          10.559,
          11.765,
          8.9155,
          6.6328,
          13.4855
         ]
        },
        {
         "hovertemplate": "Candidat=Macron<br>Thème=%{x}<br>Taux de tweets liées=%{y}<extra></extra>",
         "name": "Macron",
         "type": "bar",
         "x": [
          "ecologie",
          "economie",
          "education",
          "immigration",
          "sante",
          "securite_defense",
          "ecologie",
          "economie",
          "education",
          "immigration",
          "sante",
          "securite_defense",
          "ecologie",
          "economie",
          "education",
          "immigration",
          "sante",
          "securite_defense",
          "ecologie",
          "economie",
          "education",
          "immigration",
          "sante",
          "securite_defense",
          "ecologie",
          "economie",
          "education",
          "immigration",
          "sante",
          "securite_defense",
          "ecologie",
          "economie",
          "education",
          "immigration",
          "sante",
          "securite_defense",
          "ecologie",
          "economie",
          "education",
          "immigration",
          "sante",
          "securite_defense",
          "ecologie",
          "economie",
          "education",
          "immigration",
          "sante",
          "securite_defense",
          "ecologie",
          "economie",
          "education",
          "immigration",
          "sante",
          "securite_defense"
         ],
         "y": [
          4.0295,
          14.4486,
          16.9505,
          10.1365,
          10.2541,
          18.7468
         ]
        },
        {
         "hovertemplate": "Candidat=Poutou<br>Thème=%{x}<br>Taux de tweets liées=%{y}<extra></extra>",
         "name": "Poutou",
         "type": "bar",
         "x": [
          "ecologie",
          "economie",
          "education",
          "immigration",
          "sante",
          "securite_defense",
          "ecologie",
          "economie",
          "education",
          "immigration",
          "sante",
          "securite_defense",
          "ecologie",
          "economie",
          "education",
          "immigration",
          "sante",
          "securite_defense",
          "ecologie",
          "economie",
          "education",
          "immigration",
          "sante",
          "securite_defense",
          "ecologie",
          "economie",
          "education",
          "immigration",
          "sante",
          "securite_defense",
          "ecologie",
          "economie",
          "education",
          "immigration",
          "sante",
          "securite_defense",
          "ecologie",
          "economie",
          "education",
          "immigration",
          "sante",
          "securite_defense",
          "ecologie",
          "economie",
          "education",
          "immigration",
          "sante",
          "securite_defense",
          "ecologie",
          "economie",
          "education",
          "immigration",
          "sante",
          "securite_defense"
         ],
         "y": [
          1.8243,
          13.2732,
          14.9298,
          5.2632,
          7.402,
          13.2942
         ]
        },
        {
         "hovertemplate": "Candidat=Pécresse<br>Thème=%{x}<br>Taux de tweets liées=%{y}<extra></extra>",
         "name": "Pécresse",
         "type": "bar",
         "x": [
          "ecologie",
          "economie",
          "education",
          "immigration",
          "sante",
          "securite_defense",
          "ecologie",
          "economie",
          "education",
          "immigration",
          "sante",
          "securite_defense",
          "ecologie",
          "economie",
          "education",
          "immigration",
          "sante",
          "securite_defense",
          "ecologie",
          "economie",
          "education",
          "immigration",
          "sante",
          "securite_defense",
          "ecologie",
          "economie",
          "education",
          "immigration",
          "sante",
          "securite_defense",
          "ecologie",
          "economie",
          "education",
          "immigration",
          "sante",
          "securite_defense",
          "ecologie",
          "economie",
          "education",
          "immigration",
          "sante",
          "securite_defense",
          "ecologie",
          "economie",
          "education",
          "immigration",
          "sante",
          "securite_defense",
          "ecologie",
          "economie",
          "education",
          "immigration",
          "sante",
          "securite_defense"
         ],
         "y": [
          2.3604,
          12.2107,
          13.7292,
          6.9563,
          7.8204,
          14.4989
         ]
        },
        {
         "hovertemplate": "Candidat=Roussel<br>Thème=%{x}<br>Taux de tweets liées=%{y}<extra></extra>",
         "name": "Roussel",
         "type": "bar",
         "x": [
          "ecologie",
          "economie",
          "education",
          "immigration",
          "sante",
          "securite_defense",
          "ecologie",
          "economie",
          "education",
          "immigration",
          "sante",
          "securite_defense",
          "ecologie",
          "economie",
          "education",
          "immigration",
          "sante",
          "securite_defense",
          "ecologie",
          "economie",
          "education",
          "immigration",
          "sante",
          "securite_defense",
          "ecologie",
          "economie",
          "education",
          "immigration",
          "sante",
          "securite_defense",
          "ecologie",
          "economie",
          "education",
          "immigration",
          "sante",
          "securite_defense",
          "ecologie",
          "economie",
          "education",
          "immigration",
          "sante",
          "securite_defense",
          "ecologie",
          "economie",
          "education",
          "immigration",
          "sante",
          "securite_defense",
          "ecologie",
          "economie",
          "education",
          "immigration",
          "sante",
          "securite_defense"
         ],
         "y": [
          4.6181,
          20.2872,
          15.9674,
          5.9357,
          8.453,
          16.8189
         ]
        },
        {
         "hovertemplate": "Candidat=Zemmour<br>Thème=%{x}<br>Taux de tweets liées=%{y}<extra></extra>",
         "name": "Zemmour",
         "type": "bar",
         "x": [
          "ecologie",
          "economie",
          "education",
          "immigration",
          "sante",
          "securite_defense",
          "ecologie",
          "economie",
          "education",
          "immigration",
          "sante",
          "securite_defense",
          "ecologie",
          "economie",
          "education",
          "immigration",
          "sante",
          "securite_defense",
          "ecologie",
          "economie",
          "education",
          "immigration",
          "sante",
          "securite_defense",
          "ecologie",
          "economie",
          "education",
          "immigration",
          "sante",
          "securite_defense",
          "ecologie",
          "economie",
          "education",
          "immigration",
          "sante",
          "securite_defense",
          "ecologie",
          "economie",
          "education",
          "immigration",
          "sante",
          "securite_defense",
          "ecologie",
          "economie",
          "education",
          "immigration",
          "sante",
          "securite_defense",
          "ecologie",
          "economie",
          "education",
          "immigration",
          "sante",
          "securite_defense"
         ],
         "y": [
          2.9153,
          11.9438,
          14.6125,
          9.3848,
          8.8922,
          16.072
         ]
        }
       ],
       "layout": {
        "legend": {
         "title": {
          "text": "Candidat"
         }
        },
        "template": {
         "data": {
          "bar": [
           {
            "error_x": {
             "color": "#2a3f5f"
            },
            "error_y": {
             "color": "#2a3f5f"
            },
            "marker": {
             "line": {
              "color": "#E5ECF6",
              "width": 0.5
             },
             "pattern": {
              "fillmode": "overlay",
              "size": 10,
              "solidity": 0.2
             }
            },
            "type": "bar"
           }
          ],
          "barpolar": [
           {
            "marker": {
             "line": {
              "color": "#E5ECF6",
              "width": 0.5
             },
             "pattern": {
              "fillmode": "overlay",
              "size": 10,
              "solidity": 0.2
             }
            },
            "type": "barpolar"
           }
          ],
          "carpet": [
           {
            "aaxis": {
             "endlinecolor": "#2a3f5f",
             "gridcolor": "white",
             "linecolor": "white",
             "minorgridcolor": "white",
             "startlinecolor": "#2a3f5f"
            },
            "baxis": {
             "endlinecolor": "#2a3f5f",
             "gridcolor": "white",
             "linecolor": "white",
             "minorgridcolor": "white",
             "startlinecolor": "#2a3f5f"
            },
            "type": "carpet"
           }
          ],
          "choropleth": [
           {
            "colorbar": {
             "outlinewidth": 0,
             "ticks": ""
            },
            "type": "choropleth"
           }
          ],
          "contour": [
           {
            "colorbar": {
             "outlinewidth": 0,
             "ticks": ""
            },
            "colorscale": [
             [
              0,
              "#0d0887"
             ],
             [
              0.1111111111111111,
              "#46039f"
             ],
             [
              0.2222222222222222,
              "#7201a8"
             ],
             [
              0.3333333333333333,
              "#9c179e"
             ],
             [
              0.4444444444444444,
              "#bd3786"
             ],
             [
              0.5555555555555556,
              "#d8576b"
             ],
             [
              0.6666666666666666,
              "#ed7953"
             ],
             [
              0.7777777777777778,
              "#fb9f3a"
             ],
             [
              0.8888888888888888,
              "#fdca26"
             ],
             [
              1,
              "#f0f921"
             ]
            ],
            "type": "contour"
           }
          ],
          "contourcarpet": [
           {
            "colorbar": {
             "outlinewidth": 0,
             "ticks": ""
            },
            "type": "contourcarpet"
           }
          ],
          "heatmap": [
           {
            "colorbar": {
             "outlinewidth": 0,
             "ticks": ""
            },
            "colorscale": [
             [
              0,
              "#0d0887"
             ],
             [
              0.1111111111111111,
              "#46039f"
             ],
             [
              0.2222222222222222,
              "#7201a8"
             ],
             [
              0.3333333333333333,
              "#9c179e"
             ],
             [
              0.4444444444444444,
              "#bd3786"
             ],
             [
              0.5555555555555556,
              "#d8576b"
             ],
             [
              0.6666666666666666,
              "#ed7953"
             ],
             [
              0.7777777777777778,
              "#fb9f3a"
             ],
             [
              0.8888888888888888,
              "#fdca26"
             ],
             [
              1,
              "#f0f921"
             ]
            ],
            "type": "heatmap"
           }
          ],
          "heatmapgl": [
           {
            "colorbar": {
             "outlinewidth": 0,
             "ticks": ""
            },
            "colorscale": [
             [
              0,
              "#0d0887"
             ],
             [
              0.1111111111111111,
              "#46039f"
             ],
             [
              0.2222222222222222,
              "#7201a8"
             ],
             [
              0.3333333333333333,
              "#9c179e"
             ],
             [
              0.4444444444444444,
              "#bd3786"
             ],
             [
              0.5555555555555556,
              "#d8576b"
             ],
             [
              0.6666666666666666,
              "#ed7953"
             ],
             [
              0.7777777777777778,
              "#fb9f3a"
             ],
             [
              0.8888888888888888,
              "#fdca26"
             ],
             [
              1,
              "#f0f921"
             ]
            ],
            "type": "heatmapgl"
           }
          ],
          "histogram": [
           {
            "marker": {
             "pattern": {
              "fillmode": "overlay",
              "size": 10,
              "solidity": 0.2
             }
            },
            "type": "histogram"
           }
          ],
          "histogram2d": [
           {
            "colorbar": {
             "outlinewidth": 0,
             "ticks": ""
            },
            "colorscale": [
             [
              0,
              "#0d0887"
             ],
             [
              0.1111111111111111,
              "#46039f"
             ],
             [
              0.2222222222222222,
              "#7201a8"
             ],
             [
              0.3333333333333333,
              "#9c179e"
             ],
             [
              0.4444444444444444,
              "#bd3786"
             ],
             [
              0.5555555555555556,
              "#d8576b"
             ],
             [
              0.6666666666666666,
              "#ed7953"
             ],
             [
              0.7777777777777778,
              "#fb9f3a"
             ],
             [
              0.8888888888888888,
              "#fdca26"
             ],
             [
              1,
              "#f0f921"
             ]
            ],
            "type": "histogram2d"
           }
          ],
          "histogram2dcontour": [
           {
            "colorbar": {
             "outlinewidth": 0,
             "ticks": ""
            },
            "colorscale": [
             [
              0,
              "#0d0887"
             ],
             [
              0.1111111111111111,
              "#46039f"
             ],
             [
              0.2222222222222222,
              "#7201a8"
             ],
             [
              0.3333333333333333,
              "#9c179e"
             ],
             [
              0.4444444444444444,
              "#bd3786"
             ],
             [
              0.5555555555555556,
              "#d8576b"
             ],
             [
              0.6666666666666666,
              "#ed7953"
             ],
             [
              0.7777777777777778,
              "#fb9f3a"
             ],
             [
              0.8888888888888888,
              "#fdca26"
             ],
             [
              1,
              "#f0f921"
             ]
            ],
            "type": "histogram2dcontour"
           }
          ],
          "mesh3d": [
           {
            "colorbar": {
             "outlinewidth": 0,
             "ticks": ""
            },
            "type": "mesh3d"
           }
          ],
          "parcoords": [
           {
            "line": {
             "colorbar": {
              "outlinewidth": 0,
              "ticks": ""
             }
            },
            "type": "parcoords"
           }
          ],
          "pie": [
           {
            "automargin": true,
            "type": "pie"
           }
          ],
          "scatter": [
           {
            "marker": {
             "colorbar": {
              "outlinewidth": 0,
              "ticks": ""
             }
            },
            "type": "scatter"
           }
          ],
          "scatter3d": [
           {
            "line": {
             "colorbar": {
              "outlinewidth": 0,
              "ticks": ""
             }
            },
            "marker": {
             "colorbar": {
              "outlinewidth": 0,
              "ticks": ""
             }
            },
            "type": "scatter3d"
           }
          ],
          "scattercarpet": [
           {
            "marker": {
             "colorbar": {
              "outlinewidth": 0,
              "ticks": ""
             }
            },
            "type": "scattercarpet"
           }
          ],
          "scattergeo": [
           {
            "marker": {
             "colorbar": {
              "outlinewidth": 0,
              "ticks": ""
             }
            },
            "type": "scattergeo"
           }
          ],
          "scattergl": [
           {
            "marker": {
             "colorbar": {
              "outlinewidth": 0,
              "ticks": ""
             }
            },
            "type": "scattergl"
           }
          ],
          "scattermapbox": [
           {
            "marker": {
             "colorbar": {
              "outlinewidth": 0,
              "ticks": ""
             }
            },
            "type": "scattermapbox"
           }
          ],
          "scatterpolar": [
           {
            "marker": {
             "colorbar": {
              "outlinewidth": 0,
              "ticks": ""
             }
            },
            "type": "scatterpolar"
           }
          ],
          "scatterpolargl": [
           {
            "marker": {
             "colorbar": {
              "outlinewidth": 0,
              "ticks": ""
             }
            },
            "type": "scatterpolargl"
           }
          ],
          "scatterternary": [
           {
            "marker": {
             "colorbar": {
              "outlinewidth": 0,
              "ticks": ""
             }
            },
            "type": "scatterternary"
           }
          ],
          "surface": [
           {
            "colorbar": {
             "outlinewidth": 0,
             "ticks": ""
            },
            "colorscale": [
             [
              0,
              "#0d0887"
             ],
             [
              0.1111111111111111,
              "#46039f"
             ],
             [
              0.2222222222222222,
              "#7201a8"
             ],
             [
              0.3333333333333333,
              "#9c179e"
             ],
             [
              0.4444444444444444,
              "#bd3786"
             ],
             [
              0.5555555555555556,
              "#d8576b"
             ],
             [
              0.6666666666666666,
              "#ed7953"
             ],
             [
              0.7777777777777778,
              "#fb9f3a"
             ],
             [
              0.8888888888888888,
              "#fdca26"
             ],
             [
              1,
              "#f0f921"
             ]
            ],
            "type": "surface"
           }
          ],
          "table": [
           {
            "cells": {
             "fill": {
              "color": "#EBF0F8"
             },
             "line": {
              "color": "white"
             }
            },
            "header": {
             "fill": {
              "color": "#C8D4E3"
             },
             "line": {
              "color": "white"
             }
            },
            "type": "table"
           }
          ]
         },
         "layout": {
          "annotationdefaults": {
           "arrowcolor": "#2a3f5f",
           "arrowhead": 0,
           "arrowwidth": 1
          },
          "autotypenumbers": "strict",
          "coloraxis": {
           "colorbar": {
            "outlinewidth": 0,
            "ticks": ""
           }
          },
          "colorscale": {
           "diverging": [
            [
             0,
             "#8e0152"
            ],
            [
             0.1,
             "#c51b7d"
            ],
            [
             0.2,
             "#de77ae"
            ],
            [
             0.3,
             "#f1b6da"
            ],
            [
             0.4,
             "#fde0ef"
            ],
            [
             0.5,
             "#f7f7f7"
            ],
            [
             0.6,
             "#e6f5d0"
            ],
            [
             0.7,
             "#b8e186"
            ],
            [
             0.8,
             "#7fbc41"
            ],
            [
             0.9,
             "#4d9221"
            ],
            [
             1,
             "#276419"
            ]
           ],
           "sequential": [
            [
             0,
             "#0d0887"
            ],
            [
             0.1111111111111111,
             "#46039f"
            ],
            [
             0.2222222222222222,
             "#7201a8"
            ],
            [
             0.3333333333333333,
             "#9c179e"
            ],
            [
             0.4444444444444444,
             "#bd3786"
            ],
            [
             0.5555555555555556,
             "#d8576b"
            ],
            [
             0.6666666666666666,
             "#ed7953"
            ],
            [
             0.7777777777777778,
             "#fb9f3a"
            ],
            [
             0.8888888888888888,
             "#fdca26"
            ],
            [
             1,
             "#f0f921"
            ]
           ],
           "sequentialminus": [
            [
             0,
             "#0d0887"
            ],
            [
             0.1111111111111111,
             "#46039f"
            ],
            [
             0.2222222222222222,
             "#7201a8"
            ],
            [
             0.3333333333333333,
             "#9c179e"
            ],
            [
             0.4444444444444444,
             "#bd3786"
            ],
            [
             0.5555555555555556,
             "#d8576b"
            ],
            [
             0.6666666666666666,
             "#ed7953"
            ],
            [
             0.7777777777777778,
             "#fb9f3a"
            ],
            [
             0.8888888888888888,
             "#fdca26"
            ],
            [
             1,
             "#f0f921"
            ]
           ]
          },
          "colorway": [
           "#636efa",
           "#EF553B",
           "#00cc96",
           "#ab63fa",
           "#FFA15A",
           "#19d3f3",
           "#FF6692",
           "#B6E880",
           "#FF97FF",
           "#FECB52"
          ],
          "font": {
           "color": "#2a3f5f"
          },
          "geo": {
           "bgcolor": "white",
           "lakecolor": "white",
           "landcolor": "#E5ECF6",
           "showlakes": true,
           "showland": true,
           "subunitcolor": "white"
          },
          "hoverlabel": {
           "align": "left"
          },
          "hovermode": "closest",
          "mapbox": {
           "style": "light"
          },
          "paper_bgcolor": "white",
          "plot_bgcolor": "#E5ECF6",
          "polar": {
           "angularaxis": {
            "gridcolor": "white",
            "linecolor": "white",
            "ticks": ""
           },
           "bgcolor": "#E5ECF6",
           "radialaxis": {
            "gridcolor": "white",
            "linecolor": "white",
            "ticks": ""
           }
          },
          "scene": {
           "xaxis": {
            "backgroundcolor": "#E5ECF6",
            "gridcolor": "white",
            "gridwidth": 2,
            "linecolor": "white",
            "showbackground": true,
            "ticks": "",
            "zerolinecolor": "white"
           },
           "yaxis": {
            "backgroundcolor": "#E5ECF6",
            "gridcolor": "white",
            "gridwidth": 2,
            "linecolor": "white",
            "showbackground": true,
            "ticks": "",
            "zerolinecolor": "white"
           },
           "zaxis": {
            "backgroundcolor": "#E5ECF6",
            "gridcolor": "white",
            "gridwidth": 2,
            "linecolor": "white",
            "showbackground": true,
            "ticks": "",
            "zerolinecolor": "white"
           }
          },
          "shapedefaults": {
           "line": {
            "color": "#2a3f5f"
           }
          },
          "ternary": {
           "aaxis": {
            "gridcolor": "white",
            "linecolor": "white",
            "ticks": ""
           },
           "baxis": {
            "gridcolor": "white",
            "linecolor": "white",
            "ticks": ""
           },
           "bgcolor": "#E5ECF6",
           "caxis": {
            "gridcolor": "white",
            "linecolor": "white",
            "ticks": ""
           }
          },
          "title": {
           "x": 0.05
          },
          "xaxis": {
           "automargin": true,
           "gridcolor": "white",
           "linecolor": "white",
           "ticks": "",
           "title": {
            "standoff": 15
           },
           "zerolinecolor": "white",
           "zerolinewidth": 2
          },
          "yaxis": {
           "automargin": true,
           "gridcolor": "white",
           "linecolor": "white",
           "ticks": "",
           "title": {
            "standoff": 15
           },
           "zerolinecolor": "white",
           "zerolinewidth": 2
          }
         }
        },
        "xaxis": {
         "title": {
          "text": "Thèmes"
         }
        },
        "yaxis": {
         "title": {
          "text": "Taux de tweets relatifs aux thèmes (%)"
         }
        }
       }
      },
      "text/html": [
       "<div>                            <div id=\"a399ec20-d822-40aa-beb4-a673a78c643c\" class=\"plotly-graph-div\" style=\"height:525px; width:100%;\"></div>            <script type=\"text/javascript\">                require([\"plotly\"], function(Plotly) {                    window.PLOTLYENV=window.PLOTLYENV || {};                                    if (document.getElementById(\"a399ec20-d822-40aa-beb4-a673a78c643c\")) {                    Plotly.newPlot(                        \"a399ec20-d822-40aa-beb4-a673a78c643c\",                        [{\"hovertemplate\":\"Candidat=Arthaud<br>Th\\u00e8me=%{x}<br>Taux de tweets li\\u00e9es=%{y}<extra></extra>\",\"name\":\"Arthaud\",\"x\":[\"ecologie\",\"economie\",\"education\",\"immigration\",\"sante\",\"securite_defense\",\"ecologie\",\"economie\",\"education\",\"immigration\",\"sante\",\"securite_defense\",\"ecologie\",\"economie\",\"education\",\"immigration\",\"sante\",\"securite_defense\",\"ecologie\",\"economie\",\"education\",\"immigration\",\"sante\",\"securite_defense\",\"ecologie\",\"economie\",\"education\",\"immigration\",\"sante\",\"securite_defense\",\"ecologie\",\"economie\",\"education\",\"immigration\",\"sante\",\"securite_defense\",\"ecologie\",\"economie\",\"education\",\"immigration\",\"sante\",\"securite_defense\",\"ecologie\",\"economie\",\"education\",\"immigration\",\"sante\",\"securite_defense\",\"ecologie\",\"economie\",\"education\",\"immigration\",\"sante\",\"securite_defense\"],\"y\":[1.5974,14.1374,15.8946,6.1502,5.9904,11.0224],\"type\":\"bar\"},{\"hovertemplate\":\"Candidat=Hidalgo<br>Th\\u00e8me=%{x}<br>Taux de tweets li\\u00e9es=%{y}<extra></extra>\",\"name\":\"Hidalgo\",\"x\":[\"ecologie\",\"economie\",\"education\",\"immigration\",\"sante\",\"securite_defense\",\"ecologie\",\"economie\",\"education\",\"immigration\",\"sante\",\"securite_defense\",\"ecologie\",\"economie\",\"education\",\"immigration\",\"sante\",\"securite_defense\",\"ecologie\",\"economie\",\"education\",\"immigration\",\"sante\",\"securite_defense\",\"ecologie\",\"economie\",\"education\",\"immigration\",\"sante\",\"securite_defense\",\"ecologie\",\"economie\",\"education\",\"immigration\",\"sante\",\"securite_defense\",\"ecologie\",\"economie\",\"education\",\"immigration\",\"sante\",\"securite_defense\",\"ecologie\",\"economie\",\"education\",\"immigration\",\"sante\",\"securite_defense\",\"ecologie\",\"economie\",\"education\",\"immigration\",\"sante\",\"securite_defense\"],\"y\":[1.916,8.6832,8.7802,3.3015,4.6296,8.1013],\"type\":\"bar\"},{\"hovertemplate\":\"Candidat=Jadot<br>Th\\u00e8me=%{x}<br>Taux de tweets li\\u00e9es=%{y}<extra></extra>\",\"name\":\"Jadot\",\"x\":[\"ecologie\",\"economie\",\"education\",\"immigration\",\"sante\",\"securite_defense\",\"ecologie\",\"economie\",\"education\",\"immigration\",\"sante\",\"securite_defense\",\"ecologie\",\"economie\",\"education\",\"immigration\",\"sante\",\"securite_defense\",\"ecologie\",\"economie\",\"education\",\"immigration\",\"sante\",\"securite_defense\",\"ecologie\",\"economie\",\"education\",\"immigration\",\"sante\",\"securite_defense\",\"ecologie\",\"economie\",\"education\",\"immigration\",\"sante\",\"securite_defense\",\"ecologie\",\"economie\",\"education\",\"immigration\",\"sante\",\"securite_defense\",\"ecologie\",\"economie\",\"education\",\"immigration\",\"sante\",\"securite_defense\",\"ecologie\",\"economie\",\"education\",\"immigration\",\"sante\",\"securite_defense\"],\"y\":[14.0827,18.7595,15.0946,10.7849,10.3812,18.8277],\"type\":\"bar\"},{\"hovertemplate\":\"Candidat=Lepen<br>Th\\u00e8me=%{x}<br>Taux de tweets li\\u00e9es=%{y}<extra></extra>\",\"name\":\"Lepen\",\"x\":[\"ecologie\",\"economie\",\"education\",\"immigration\",\"sante\",\"securite_defense\",\"ecologie\",\"economie\",\"education\",\"immigration\",\"sante\",\"securite_defense\",\"ecologie\",\"economie\",\"education\",\"immigration\",\"sante\",\"securite_defense\",\"ecologie\",\"economie\",\"education\",\"immigration\",\"sante\",\"securite_defense\",\"ecologie\",\"economie\",\"education\",\"immigration\",\"sante\",\"securite_defense\",\"ecologie\",\"economie\",\"education\",\"immigration\",\"sante\",\"securite_defense\",\"ecologie\",\"economie\",\"education\",\"immigration\",\"sante\",\"securite_defense\",\"ecologie\",\"economie\",\"education\",\"immigration\",\"sante\",\"securite_defense\",\"ecologie\",\"economie\",\"education\",\"immigration\",\"sante\",\"securite_defense\"],\"y\":[3.6496,10.559,11.765,8.9155,6.6328,13.4855],\"type\":\"bar\"},{\"hovertemplate\":\"Candidat=Macron<br>Th\\u00e8me=%{x}<br>Taux de tweets li\\u00e9es=%{y}<extra></extra>\",\"name\":\"Macron\",\"x\":[\"ecologie\",\"economie\",\"education\",\"immigration\",\"sante\",\"securite_defense\",\"ecologie\",\"economie\",\"education\",\"immigration\",\"sante\",\"securite_defense\",\"ecologie\",\"economie\",\"education\",\"immigration\",\"sante\",\"securite_defense\",\"ecologie\",\"economie\",\"education\",\"immigration\",\"sante\",\"securite_defense\",\"ecologie\",\"economie\",\"education\",\"immigration\",\"sante\",\"securite_defense\",\"ecologie\",\"economie\",\"education\",\"immigration\",\"sante\",\"securite_defense\",\"ecologie\",\"economie\",\"education\",\"immigration\",\"sante\",\"securite_defense\",\"ecologie\",\"economie\",\"education\",\"immigration\",\"sante\",\"securite_defense\",\"ecologie\",\"economie\",\"education\",\"immigration\",\"sante\",\"securite_defense\"],\"y\":[4.0295,14.4486,16.9505,10.1365,10.2541,18.7468],\"type\":\"bar\"},{\"hovertemplate\":\"Candidat=Poutou<br>Th\\u00e8me=%{x}<br>Taux de tweets li\\u00e9es=%{y}<extra></extra>\",\"name\":\"Poutou\",\"x\":[\"ecologie\",\"economie\",\"education\",\"immigration\",\"sante\",\"securite_defense\",\"ecologie\",\"economie\",\"education\",\"immigration\",\"sante\",\"securite_defense\",\"ecologie\",\"economie\",\"education\",\"immigration\",\"sante\",\"securite_defense\",\"ecologie\",\"economie\",\"education\",\"immigration\",\"sante\",\"securite_defense\",\"ecologie\",\"economie\",\"education\",\"immigration\",\"sante\",\"securite_defense\",\"ecologie\",\"economie\",\"education\",\"immigration\",\"sante\",\"securite_defense\",\"ecologie\",\"economie\",\"education\",\"immigration\",\"sante\",\"securite_defense\",\"ecologie\",\"economie\",\"education\",\"immigration\",\"sante\",\"securite_defense\",\"ecologie\",\"economie\",\"education\",\"immigration\",\"sante\",\"securite_defense\"],\"y\":[1.8243,13.2732,14.9298,5.2632,7.402,13.2942],\"type\":\"bar\"},{\"hovertemplate\":\"Candidat=P\\u00e9cresse<br>Th\\u00e8me=%{x}<br>Taux de tweets li\\u00e9es=%{y}<extra></extra>\",\"name\":\"P\\u00e9cresse\",\"x\":[\"ecologie\",\"economie\",\"education\",\"immigration\",\"sante\",\"securite_defense\",\"ecologie\",\"economie\",\"education\",\"immigration\",\"sante\",\"securite_defense\",\"ecologie\",\"economie\",\"education\",\"immigration\",\"sante\",\"securite_defense\",\"ecologie\",\"economie\",\"education\",\"immigration\",\"sante\",\"securite_defense\",\"ecologie\",\"economie\",\"education\",\"immigration\",\"sante\",\"securite_defense\",\"ecologie\",\"economie\",\"education\",\"immigration\",\"sante\",\"securite_defense\",\"ecologie\",\"economie\",\"education\",\"immigration\",\"sante\",\"securite_defense\",\"ecologie\",\"economie\",\"education\",\"immigration\",\"sante\",\"securite_defense\",\"ecologie\",\"economie\",\"education\",\"immigration\",\"sante\",\"securite_defense\"],\"y\":[2.3604,12.2107,13.7292,6.9563,7.8204,14.4989],\"type\":\"bar\"},{\"hovertemplate\":\"Candidat=Roussel<br>Th\\u00e8me=%{x}<br>Taux de tweets li\\u00e9es=%{y}<extra></extra>\",\"name\":\"Roussel\",\"x\":[\"ecologie\",\"economie\",\"education\",\"immigration\",\"sante\",\"securite_defense\",\"ecologie\",\"economie\",\"education\",\"immigration\",\"sante\",\"securite_defense\",\"ecologie\",\"economie\",\"education\",\"immigration\",\"sante\",\"securite_defense\",\"ecologie\",\"economie\",\"education\",\"immigration\",\"sante\",\"securite_defense\",\"ecologie\",\"economie\",\"education\",\"immigration\",\"sante\",\"securite_defense\",\"ecologie\",\"economie\",\"education\",\"immigration\",\"sante\",\"securite_defense\",\"ecologie\",\"economie\",\"education\",\"immigration\",\"sante\",\"securite_defense\",\"ecologie\",\"economie\",\"education\",\"immigration\",\"sante\",\"securite_defense\",\"ecologie\",\"economie\",\"education\",\"immigration\",\"sante\",\"securite_defense\"],\"y\":[4.6181,20.2872,15.9674,5.9357,8.453,16.8189],\"type\":\"bar\"},{\"hovertemplate\":\"Candidat=Zemmour<br>Th\\u00e8me=%{x}<br>Taux de tweets li\\u00e9es=%{y}<extra></extra>\",\"name\":\"Zemmour\",\"x\":[\"ecologie\",\"economie\",\"education\",\"immigration\",\"sante\",\"securite_defense\",\"ecologie\",\"economie\",\"education\",\"immigration\",\"sante\",\"securite_defense\",\"ecologie\",\"economie\",\"education\",\"immigration\",\"sante\",\"securite_defense\",\"ecologie\",\"economie\",\"education\",\"immigration\",\"sante\",\"securite_defense\",\"ecologie\",\"economie\",\"education\",\"immigration\",\"sante\",\"securite_defense\",\"ecologie\",\"economie\",\"education\",\"immigration\",\"sante\",\"securite_defense\",\"ecologie\",\"economie\",\"education\",\"immigration\",\"sante\",\"securite_defense\",\"ecologie\",\"economie\",\"education\",\"immigration\",\"sante\",\"securite_defense\",\"ecologie\",\"economie\",\"education\",\"immigration\",\"sante\",\"securite_defense\"],\"y\":[2.9153,11.9438,14.6125,9.3848,8.8922,16.072],\"type\":\"bar\"}],                        {\"template\":{\"data\":{\"bar\":[{\"error_x\":{\"color\":\"#2a3f5f\"},\"error_y\":{\"color\":\"#2a3f5f\"},\"marker\":{\"line\":{\"color\":\"#E5ECF6\",\"width\":0.5},\"pattern\":{\"fillmode\":\"overlay\",\"size\":10,\"solidity\":0.2}},\"type\":\"bar\"}],\"barpolar\":[{\"marker\":{\"line\":{\"color\":\"#E5ECF6\",\"width\":0.5},\"pattern\":{\"fillmode\":\"overlay\",\"size\":10,\"solidity\":0.2}},\"type\":\"barpolar\"}],\"carpet\":[{\"aaxis\":{\"endlinecolor\":\"#2a3f5f\",\"gridcolor\":\"white\",\"linecolor\":\"white\",\"minorgridcolor\":\"white\",\"startlinecolor\":\"#2a3f5f\"},\"baxis\":{\"endlinecolor\":\"#2a3f5f\",\"gridcolor\":\"white\",\"linecolor\":\"white\",\"minorgridcolor\":\"white\",\"startlinecolor\":\"#2a3f5f\"},\"type\":\"carpet\"}],\"choropleth\":[{\"colorbar\":{\"outlinewidth\":0,\"ticks\":\"\"},\"type\":\"choropleth\"}],\"contour\":[{\"colorbar\":{\"outlinewidth\":0,\"ticks\":\"\"},\"colorscale\":[[0.0,\"#0d0887\"],[0.1111111111111111,\"#46039f\"],[0.2222222222222222,\"#7201a8\"],[0.3333333333333333,\"#9c179e\"],[0.4444444444444444,\"#bd3786\"],[0.5555555555555556,\"#d8576b\"],[0.6666666666666666,\"#ed7953\"],[0.7777777777777778,\"#fb9f3a\"],[0.8888888888888888,\"#fdca26\"],[1.0,\"#f0f921\"]],\"type\":\"contour\"}],\"contourcarpet\":[{\"colorbar\":{\"outlinewidth\":0,\"ticks\":\"\"},\"type\":\"contourcarpet\"}],\"heatmap\":[{\"colorbar\":{\"outlinewidth\":0,\"ticks\":\"\"},\"colorscale\":[[0.0,\"#0d0887\"],[0.1111111111111111,\"#46039f\"],[0.2222222222222222,\"#7201a8\"],[0.3333333333333333,\"#9c179e\"],[0.4444444444444444,\"#bd3786\"],[0.5555555555555556,\"#d8576b\"],[0.6666666666666666,\"#ed7953\"],[0.7777777777777778,\"#fb9f3a\"],[0.8888888888888888,\"#fdca26\"],[1.0,\"#f0f921\"]],\"type\":\"heatmap\"}],\"heatmapgl\":[{\"colorbar\":{\"outlinewidth\":0,\"ticks\":\"\"},\"colorscale\":[[0.0,\"#0d0887\"],[0.1111111111111111,\"#46039f\"],[0.2222222222222222,\"#7201a8\"],[0.3333333333333333,\"#9c179e\"],[0.4444444444444444,\"#bd3786\"],[0.5555555555555556,\"#d8576b\"],[0.6666666666666666,\"#ed7953\"],[0.7777777777777778,\"#fb9f3a\"],[0.8888888888888888,\"#fdca26\"],[1.0,\"#f0f921\"]],\"type\":\"heatmapgl\"}],\"histogram\":[{\"marker\":{\"pattern\":{\"fillmode\":\"overlay\",\"size\":10,\"solidity\":0.2}},\"type\":\"histogram\"}],\"histogram2d\":[{\"colorbar\":{\"outlinewidth\":0,\"ticks\":\"\"},\"colorscale\":[[0.0,\"#0d0887\"],[0.1111111111111111,\"#46039f\"],[0.2222222222222222,\"#7201a8\"],[0.3333333333333333,\"#9c179e\"],[0.4444444444444444,\"#bd3786\"],[0.5555555555555556,\"#d8576b\"],[0.6666666666666666,\"#ed7953\"],[0.7777777777777778,\"#fb9f3a\"],[0.8888888888888888,\"#fdca26\"],[1.0,\"#f0f921\"]],\"type\":\"histogram2d\"}],\"histogram2dcontour\":[{\"colorbar\":{\"outlinewidth\":0,\"ticks\":\"\"},\"colorscale\":[[0.0,\"#0d0887\"],[0.1111111111111111,\"#46039f\"],[0.2222222222222222,\"#7201a8\"],[0.3333333333333333,\"#9c179e\"],[0.4444444444444444,\"#bd3786\"],[0.5555555555555556,\"#d8576b\"],[0.6666666666666666,\"#ed7953\"],[0.7777777777777778,\"#fb9f3a\"],[0.8888888888888888,\"#fdca26\"],[1.0,\"#f0f921\"]],\"type\":\"histogram2dcontour\"}],\"mesh3d\":[{\"colorbar\":{\"outlinewidth\":0,\"ticks\":\"\"},\"type\":\"mesh3d\"}],\"parcoords\":[{\"line\":{\"colorbar\":{\"outlinewidth\":0,\"ticks\":\"\"}},\"type\":\"parcoords\"}],\"pie\":[{\"automargin\":true,\"type\":\"pie\"}],\"scatter\":[{\"marker\":{\"colorbar\":{\"outlinewidth\":0,\"ticks\":\"\"}},\"type\":\"scatter\"}],\"scatter3d\":[{\"line\":{\"colorbar\":{\"outlinewidth\":0,\"ticks\":\"\"}},\"marker\":{\"colorbar\":{\"outlinewidth\":0,\"ticks\":\"\"}},\"type\":\"scatter3d\"}],\"scattercarpet\":[{\"marker\":{\"colorbar\":{\"outlinewidth\":0,\"ticks\":\"\"}},\"type\":\"scattercarpet\"}],\"scattergeo\":[{\"marker\":{\"colorbar\":{\"outlinewidth\":0,\"ticks\":\"\"}},\"type\":\"scattergeo\"}],\"scattergl\":[{\"marker\":{\"colorbar\":{\"outlinewidth\":0,\"ticks\":\"\"}},\"type\":\"scattergl\"}],\"scattermapbox\":[{\"marker\":{\"colorbar\":{\"outlinewidth\":0,\"ticks\":\"\"}},\"type\":\"scattermapbox\"}],\"scatterpolar\":[{\"marker\":{\"colorbar\":{\"outlinewidth\":0,\"ticks\":\"\"}},\"type\":\"scatterpolar\"}],\"scatterpolargl\":[{\"marker\":{\"colorbar\":{\"outlinewidth\":0,\"ticks\":\"\"}},\"type\":\"scatterpolargl\"}],\"scatterternary\":[{\"marker\":{\"colorbar\":{\"outlinewidth\":0,\"ticks\":\"\"}},\"type\":\"scatterternary\"}],\"surface\":[{\"colorbar\":{\"outlinewidth\":0,\"ticks\":\"\"},\"colorscale\":[[0.0,\"#0d0887\"],[0.1111111111111111,\"#46039f\"],[0.2222222222222222,\"#7201a8\"],[0.3333333333333333,\"#9c179e\"],[0.4444444444444444,\"#bd3786\"],[0.5555555555555556,\"#d8576b\"],[0.6666666666666666,\"#ed7953\"],[0.7777777777777778,\"#fb9f3a\"],[0.8888888888888888,\"#fdca26\"],[1.0,\"#f0f921\"]],\"type\":\"surface\"}],\"table\":[{\"cells\":{\"fill\":{\"color\":\"#EBF0F8\"},\"line\":{\"color\":\"white\"}},\"header\":{\"fill\":{\"color\":\"#C8D4E3\"},\"line\":{\"color\":\"white\"}},\"type\":\"table\"}]},\"layout\":{\"annotationdefaults\":{\"arrowcolor\":\"#2a3f5f\",\"arrowhead\":0,\"arrowwidth\":1},\"autotypenumbers\":\"strict\",\"coloraxis\":{\"colorbar\":{\"outlinewidth\":0,\"ticks\":\"\"}},\"colorscale\":{\"diverging\":[[0,\"#8e0152\"],[0.1,\"#c51b7d\"],[0.2,\"#de77ae\"],[0.3,\"#f1b6da\"],[0.4,\"#fde0ef\"],[0.5,\"#f7f7f7\"],[0.6,\"#e6f5d0\"],[0.7,\"#b8e186\"],[0.8,\"#7fbc41\"],[0.9,\"#4d9221\"],[1,\"#276419\"]],\"sequential\":[[0.0,\"#0d0887\"],[0.1111111111111111,\"#46039f\"],[0.2222222222222222,\"#7201a8\"],[0.3333333333333333,\"#9c179e\"],[0.4444444444444444,\"#bd3786\"],[0.5555555555555556,\"#d8576b\"],[0.6666666666666666,\"#ed7953\"],[0.7777777777777778,\"#fb9f3a\"],[0.8888888888888888,\"#fdca26\"],[1.0,\"#f0f921\"]],\"sequentialminus\":[[0.0,\"#0d0887\"],[0.1111111111111111,\"#46039f\"],[0.2222222222222222,\"#7201a8\"],[0.3333333333333333,\"#9c179e\"],[0.4444444444444444,\"#bd3786\"],[0.5555555555555556,\"#d8576b\"],[0.6666666666666666,\"#ed7953\"],[0.7777777777777778,\"#fb9f3a\"],[0.8888888888888888,\"#fdca26\"],[1.0,\"#f0f921\"]]},\"colorway\":[\"#636efa\",\"#EF553B\",\"#00cc96\",\"#ab63fa\",\"#FFA15A\",\"#19d3f3\",\"#FF6692\",\"#B6E880\",\"#FF97FF\",\"#FECB52\"],\"font\":{\"color\":\"#2a3f5f\"},\"geo\":{\"bgcolor\":\"white\",\"lakecolor\":\"white\",\"landcolor\":\"#E5ECF6\",\"showlakes\":true,\"showland\":true,\"subunitcolor\":\"white\"},\"hoverlabel\":{\"align\":\"left\"},\"hovermode\":\"closest\",\"mapbox\":{\"style\":\"light\"},\"paper_bgcolor\":\"white\",\"plot_bgcolor\":\"#E5ECF6\",\"polar\":{\"angularaxis\":{\"gridcolor\":\"white\",\"linecolor\":\"white\",\"ticks\":\"\"},\"bgcolor\":\"#E5ECF6\",\"radialaxis\":{\"gridcolor\":\"white\",\"linecolor\":\"white\",\"ticks\":\"\"}},\"scene\":{\"xaxis\":{\"backgroundcolor\":\"#E5ECF6\",\"gridcolor\":\"white\",\"gridwidth\":2,\"linecolor\":\"white\",\"showbackground\":true,\"ticks\":\"\",\"zerolinecolor\":\"white\"},\"yaxis\":{\"backgroundcolor\":\"#E5ECF6\",\"gridcolor\":\"white\",\"gridwidth\":2,\"linecolor\":\"white\",\"showbackground\":true,\"ticks\":\"\",\"zerolinecolor\":\"white\"},\"zaxis\":{\"backgroundcolor\":\"#E5ECF6\",\"gridcolor\":\"white\",\"gridwidth\":2,\"linecolor\":\"white\",\"showbackground\":true,\"ticks\":\"\",\"zerolinecolor\":\"white\"}},\"shapedefaults\":{\"line\":{\"color\":\"#2a3f5f\"}},\"ternary\":{\"aaxis\":{\"gridcolor\":\"white\",\"linecolor\":\"white\",\"ticks\":\"\"},\"baxis\":{\"gridcolor\":\"white\",\"linecolor\":\"white\",\"ticks\":\"\"},\"bgcolor\":\"#E5ECF6\",\"caxis\":{\"gridcolor\":\"white\",\"linecolor\":\"white\",\"ticks\":\"\"}},\"title\":{\"x\":0.05},\"xaxis\":{\"automargin\":true,\"gridcolor\":\"white\",\"linecolor\":\"white\",\"ticks\":\"\",\"title\":{\"standoff\":15},\"zerolinecolor\":\"white\",\"zerolinewidth\":2},\"yaxis\":{\"automargin\":true,\"gridcolor\":\"white\",\"linecolor\":\"white\",\"ticks\":\"\",\"title\":{\"standoff\":15},\"zerolinecolor\":\"white\",\"zerolinewidth\":2}}},\"legend\":{\"title\":{\"text\":\"Candidat\"}},\"xaxis\":{\"title\":{\"text\":\"Th\\u00e8mes\"}},\"yaxis\":{\"title\":{\"text\":\"Taux de tweets relatifs aux th\\u00e8mes (%)\"}}},                        {\"responsive\": true}                    ).then(function(){\n",
       "                            \n",
       "var gd = document.getElementById('a399ec20-d822-40aa-beb4-a673a78c643c');\n",
       "var x = new MutationObserver(function (mutations, observer) {{\n",
       "        var display = window.getComputedStyle(gd).display;\n",
       "        if (!display || display === 'none') {{\n",
       "            console.log([gd, 'removed!']);\n",
       "            Plotly.purge(gd);\n",
       "            observer.disconnect();\n",
       "        }}\n",
       "}});\n",
       "\n",
       "// Listen for the removal of the full notebook cells\n",
       "var notebookContainer = gd.closest('#notebook-container');\n",
       "if (notebookContainer) {{\n",
       "    x.observe(notebookContainer, {childList: true});\n",
       "}}\n",
       "\n",
       "// Listen for the clearing of the current output cell\n",
       "var outputEl = gd.closest('.output');\n",
       "if (outputEl) {{\n",
       "    x.observe(outputEl, {childList: true});\n",
       "}}\n",
       "\n",
       "                        })                };                });            </script>        </div>"
      ]
     },
     "metadata": {},
     "output_type": "display_data"
    }
   ],
   "source": [
    "import plotly.graph_objects as go\n",
    "fig = go.Figure()\n",
    "for candidat, group in df_all.groupby(\"candidat\"):\n",
    "    fig.add_trace(go.Bar(x=df_all.index, y=group[\"tweets_lies\"], name=candidat,\n",
    "      hovertemplate=\"Candidat=%s<br>Thème=%%{x}<br>Taux de tweets liées=%%{y}<extra></extra>\"% candidat))\n",
    "\n",
    "fig.update_layout(legend_title_text = \"Candidat\")\n",
    "fig.update_xaxes(title_text=\"Thèmes\")\n",
    "fig.update_yaxes(title_text=\"Taux de tweets relatifs aux thèmes (%)\")\n",
    "fig.show()"
   ]
  },
  {
   "cell_type": "code",
   "execution_count": null,
   "id": "cf02b1b2",
   "metadata": {},
   "outputs": [],
   "source": []
  }
 ],
 "metadata": {
  "kernelspec": {
   "display_name": "Python 3 (ipykernel)",
   "language": "python",
   "name": "python3"
  },
  "language_info": {
   "codemirror_mode": {
    "name": "ipython",
    "version": 3
   },
   "file_extension": ".py",
   "mimetype": "text/x-python",
   "name": "python",
   "nbconvert_exporter": "python",
   "pygments_lexer": "ipython3",
   "version": "3.10.0"
  }
 },
 "nbformat": 4,
 "nbformat_minor": 5
}
